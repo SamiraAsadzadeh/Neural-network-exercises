{
  "nbformat": 4,
  "nbformat_minor": 0,
  "metadata": {
    "colab": {
      "provenance": [],
      "authorship_tag": "ABX9TyNlNvaY77XIcF0m2kAEDOr1",
      "include_colab_link": true
    },
    "kernelspec": {
      "name": "python3",
      "display_name": "Python 3"
    },
    "language_info": {
      "name": "python"
    }
  },
  "cells": [
    {
      "cell_type": "markdown",
      "metadata": {
        "id": "view-in-github",
        "colab_type": "text"
      },
      "source": [
        "<a href=\"https://colab.research.google.com/github/SamiraAsadzadeh/Neural-network-exercises/blob/main/GRU.ipynb\" target=\"_parent\"><img src=\"https://colab.research.google.com/assets/colab-badge.svg\" alt=\"Open In Colab\"/></a>"
      ]
    },
    {
      "cell_type": "markdown",
      "metadata": {
        "id": "ua74kLINigno"
      },
      "source": [
        " **By: Samira Asadzadeh  40116341054541**\n",
        "\n",
        "*   **Advisor:  Dr. Mr.Asadi**\n",
        "\n",
        "*  **ISLAMIC AZAD UNIVERSITY SHIRAZ BRANCH Faculty of engineering**\n",
        "\n"
      ]
    },
    {
      "cell_type": "code",
      "execution_count": 1,
      "metadata": {
        "id": "NfYOJFiU3CJj"
      },
      "outputs": [],
      "source": [
        "import pandas as pd\n",
        "import numpy as np\n",
        "from keras.models import Sequential\n",
        "from keras.layers import *\n",
        "%matplotlib inline"
      ]
    },
    {
      "cell_type": "markdown",
      "metadata": {
        "id": "wYhpcsOf3CJo"
      },
      "source": [
        "# **Creat DataSet**\n",
        "\n",
        "<div style=\"direction:rtl;text-align:right;font-family:Tahoma\">\n",
        "ایجاد یک سری سینوسی برای 1500 گام زمانی با نویز تصادفی.</div>"
      ]
    },
    {
      "cell_type": "code",
      "execution_count": 2,
      "metadata": {
        "id": "nrWdaiZk3CJp",
        "outputId": "6f1e62d9-61ea-4281-bde3-9590c845710a",
        "colab": {
          "base_uri": "https://localhost:8080/",
          "height": 226
        }
      },
      "outputs": [
        {
          "output_type": "error",
          "ename": "NameError",
          "evalue": "name 'plt' is not defined",
          "traceback": [
            "\u001b[0;31m---------------------------------------------------------------------------\u001b[0m",
            "\u001b[0;31mNameError\u001b[0m                                 Traceback (most recent call last)",
            "\u001b[0;32m<ipython-input-2-98199bef0b90>\u001b[0m in \u001b[0;36m<cell line: 3>\u001b[0;34m()\u001b[0m\n\u001b[1;32m      1\u001b[0m \u001b[0mt\u001b[0m \u001b[0;34m=\u001b[0m \u001b[0mnp\u001b[0m\u001b[0;34m.\u001b[0m\u001b[0marange\u001b[0m\u001b[0;34m(\u001b[0m\u001b[0;36m0\u001b[0m\u001b[0;34m,\u001b[0m\u001b[0;36m1500\u001b[0m\u001b[0;34m)\u001b[0m\u001b[0;34m\u001b[0m\u001b[0;34m\u001b[0m\u001b[0m\n\u001b[1;32m      2\u001b[0m \u001b[0mx\u001b[0m \u001b[0;34m=\u001b[0m \u001b[0mnp\u001b[0m\u001b[0;34m.\u001b[0m\u001b[0msin\u001b[0m\u001b[0;34m(\u001b[0m\u001b[0;36m0.02\u001b[0m\u001b[0;34m*\u001b[0m\u001b[0mt\u001b[0m\u001b[0;34m)\u001b[0m\u001b[0;34m+\u001b[0m \u001b[0mnp\u001b[0m\u001b[0;34m.\u001b[0m\u001b[0mrandom\u001b[0m\u001b[0;34m.\u001b[0m\u001b[0mrand\u001b[0m\u001b[0;34m(\u001b[0m\u001b[0;36m1500\u001b[0m\u001b[0;34m)\u001b[0m \u001b[0;34m*\u001b[0m \u001b[0;36m2\u001b[0m\u001b[0;34m\u001b[0m\u001b[0;34m\u001b[0m\u001b[0m\n\u001b[0;32m----> 3\u001b[0;31m \u001b[0mplt\u001b[0m\u001b[0;34m.\u001b[0m\u001b[0mplot\u001b[0m\u001b[0;34m(\u001b[0m\u001b[0mx\u001b[0m\u001b[0;34m)\u001b[0m\u001b[0;34m\u001b[0m\u001b[0;34m\u001b[0m\u001b[0m\n\u001b[0m\u001b[1;32m      4\u001b[0m \u001b[0mplt\u001b[0m\u001b[0;34m.\u001b[0m\u001b[0mshow\u001b[0m\u001b[0;34m(\u001b[0m\u001b[0;34m)\u001b[0m\u001b[0;34m\u001b[0m\u001b[0;34m\u001b[0m\u001b[0m\n",
            "\u001b[0;31mNameError\u001b[0m: name 'plt' is not defined"
          ]
        }
      ],
      "source": [
        "t = np.arange(0,1500)\n",
        "x = np.sin(0.02*t)+ np.random.rand(1500) * 2\n",
        "plt.plot(x)\n",
        "plt.show()"
      ]
    },
    {
      "cell_type": "markdown",
      "metadata": {
        "id": "GQqgIXKH3CJq"
      },
      "source": [
        "# **Split Train & Test Data**\n",
        "\n",
        "<div style=\"direction:rtl;text-align:right;font-family:Tahoma\">\n",
        " مقدار اول برای آموزش 1000 تا و 500 تای آخر برای تست در نظر گرفته شده است.</div>"
      ]
    },
    {
      "cell_type": "code",
      "execution_count": 3,
      "metadata": {
        "id": "VvUmyIPT3CJr"
      },
      "outputs": [],
      "source": [
        "train,test = x[0:1000], x[1000:]"
      ]
    },
    {
      "cell_type": "markdown",
      "metadata": {
        "id": "6EMS0G7C3CJr"
      },
      "source": [
        "# <div style=\"direction:rtl;text-align:right;font-family:B Lotus, B Nazanin, Tahoma\">آماده سازی داده و ایجاد ورودی و label</div>\n",
        "\n",
        "<div style=\"direction:rtl;text-align:right;font-family:Tahoma\">\n",
        "در شبکه های RNN برای ورودی Step در نظر میگیریم.\n",
        "برای شبکه های RNN مهمه که ورودی به شکل دنباله ای از داده باشد. در اینجا step طول دنباله ی ورودی را تعیین میکند. برای مثال اگر x را به عنوان داده خام داشته باشیم:\n",
        "<br>\n",
        "</div>\n",
        "\n",
        "    x = [1,2,3,4,5,6,7,8,9,10]\n",
        "    \n",
        "    for step=1, x input  and its y prediction becomes:\n",
        "    \n",
        "    x  y\n",
        "    1  2\n",
        "    2  3\n",
        "    3  4\n",
        "    4  5\n",
        "    ..\n",
        "    9  10\n",
        "    \n",
        "    for step=3, x and y contain:\n",
        "    \n",
        "    x         y\n",
        "    1,2,3     4\n",
        "    2,3,4     5\n",
        "    3,4,5     6\n",
        "    4,5,6     7\n",
        "    ...\n",
        "    7,8,9     10\n"
      ]
    },
    {
      "cell_type": "code",
      "execution_count": 4,
      "metadata": {
        "id": "pI9krR563CJs"
      },
      "outputs": [],
      "source": [
        "step = 10\n",
        "\n",
        "# convert into dataset data and label\n",
        "def convertToDataset(data, step):\n",
        "    #data = np.append(data,np.repeat(data[-1,],step))\n",
        "    X, Y =[], []\n",
        "    for i in range(len(data)-step):\n",
        "        d=i+step\n",
        "        X.append(data[i:d,])\n",
        "        Y.append(data[d,])\n",
        "    return np.array(X), np.array(Y)\n",
        "\n",
        "trainX,trainY =convertToDataset(train,step)\n",
        "testX,testY =convertToDataset(test,step)"
      ]
    },
    {
      "cell_type": "code",
      "execution_count": 5,
      "metadata": {
        "id": "8ZL2iqdR3CJt",
        "outputId": "5e55f88b-8147-40dd-de5f-ca5054587cb5",
        "colab": {
          "base_uri": "https://localhost:8080/"
        }
      },
      "outputs": [
        {
          "output_type": "stream",
          "name": "stdout",
          "text": [
            "(990, 10)\n",
            "(490, 10)\n"
          ]
        }
      ],
      "source": [
        "print(trainX.shape)\n",
        "print(testX.shape)"
      ]
    },
    {
      "cell_type": "markdown",
      "metadata": {
        "id": "sinhyhus3CJu"
      },
      "source": [
        "# <div style=\"direction:rtl;text-align:right;font-family:B Lotus, B Nazanin, Tahoma\">تغییر ابعاد داده برای ورودی دادن به شبکه</div>\n",
        "\n",
        "<div style=\"direction:rtl;text-align:right;font-family:Tahoma\">\n",
        "ورودی یک شبکه RNN در Keras به صورت زیر است:\n",
        "</div>\n",
        "\n",
        "    (NumberOfSequences, TimeSteps, ElementsPerStep)"
      ]
    },
    {
      "cell_type": "code",
      "execution_count": 6,
      "metadata": {
        "id": "IlGUUUqT3CJv"
      },
      "outputs": [],
      "source": [
        "trainX = np.reshape(trainX, (trainX.shape[0],  trainX.shape[1], 1))\n",
        "testX = np.reshape(testX, (testX.shape[0],testX.shape[1], 1))"
      ]
    },
    {
      "cell_type": "code",
      "execution_count": 7,
      "metadata": {
        "id": "p70zwlFh3CJv",
        "outputId": "97d90228-5ba8-495f-d352-3e2b8ac49422",
        "colab": {
          "base_uri": "https://localhost:8080/"
        }
      },
      "outputs": [
        {
          "output_type": "stream",
          "name": "stdout",
          "text": [
            "(990, 10, 1)\n",
            "(490, 10, 1)\n"
          ]
        }
      ],
      "source": [
        "print(trainX.shape)\n",
        "print(testX.shape)"
      ]
    },
    {
      "cell_type": "markdown",
      "metadata": {
        "id": "0_EvhTh83CJw"
      },
      "source": [
        "# <div style=\"direction:rtl;text-align:right;font-family:B Lotus, B Nazanin, Tahoma\">معماری شبکه و compile آن</div>\n"
      ]
    },
    {
      "cell_type": "code",
      "execution_count": 8,
      "metadata": {
        "id": "LCXWl1lBSIgg"
      },
      "outputs": [],
      "source": [
        "model = Sequential()\n",
        "model.add(GRU(units=64, activation=\"tanh\"))\n",
        "model.add(Dense(1))\n",
        "model.compile(loss='mean_squared_error', optimizer='rmsprop')"
      ]
    },
    {
      "cell_type": "markdown",
      "metadata": {
        "id": "QY03jnKb3CJx"
      },
      "source": [
        "<div style=\"direction:rtl;text-align:right;font-family:Tahoma\">\n",
        "به نظر شما model.summary() را می‌توانیم صدا بزنیم؟ چرا؟\n",
        "<br>\n",
        "model.input\n",
        "چه چیزی بر می‌گرداند!\n",
        "</div>"
      ]
    },
    {
      "cell_type": "markdown",
      "metadata": {
        "id": "8UbNaPjp3CJy"
      },
      "source": [
        "# <div style=\"direction:rtl;text-align:right;font-family:B Lotus, B Nazanin, Tahoma\">آموزش مدل</div>\n"
      ]
    },
    {
      "cell_type": "code",
      "execution_count": 9,
      "metadata": {
        "id": "8Fw9eLQx3CJy",
        "outputId": "f8f12685-13d3-4d8e-fdb0-fc3466c919e7",
        "colab": {
          "base_uri": "https://localhost:8080/"
        }
      },
      "outputs": [
        {
          "output_type": "stream",
          "name": "stdout",
          "text": [
            "Epoch 1/100\n",
            "62/62 - 2s - loss: 0.4447 - 2s/epoch - 29ms/step\n",
            "Epoch 2/100\n",
            "62/62 - 0s - loss: 0.3978 - 191ms/epoch - 3ms/step\n",
            "Epoch 3/100\n",
            "62/62 - 0s - loss: 0.3917 - 196ms/epoch - 3ms/step\n",
            "Epoch 4/100\n",
            "62/62 - 0s - loss: 0.3890 - 221ms/epoch - 4ms/step\n",
            "Epoch 5/100\n",
            "62/62 - 0s - loss: 0.3896 - 220ms/epoch - 4ms/step\n",
            "Epoch 6/100\n",
            "62/62 - 0s - loss: 0.3854 - 210ms/epoch - 3ms/step\n",
            "Epoch 7/100\n",
            "62/62 - 0s - loss: 0.3887 - 190ms/epoch - 3ms/step\n",
            "Epoch 8/100\n",
            "62/62 - 0s - loss: 0.3883 - 204ms/epoch - 3ms/step\n",
            "Epoch 9/100\n",
            "62/62 - 0s - loss: 0.3845 - 206ms/epoch - 3ms/step\n",
            "Epoch 10/100\n",
            "62/62 - 0s - loss: 0.3833 - 209ms/epoch - 3ms/step\n",
            "Epoch 11/100\n",
            "62/62 - 0s - loss: 0.3848 - 206ms/epoch - 3ms/step\n",
            "Epoch 12/100\n",
            "62/62 - 0s - loss: 0.3834 - 196ms/epoch - 3ms/step\n",
            "Epoch 13/100\n",
            "62/62 - 0s - loss: 0.3837 - 219ms/epoch - 4ms/step\n",
            "Epoch 14/100\n",
            "62/62 - 0s - loss: 0.3854 - 204ms/epoch - 3ms/step\n",
            "Epoch 15/100\n",
            "62/62 - 0s - loss: 0.3835 - 215ms/epoch - 3ms/step\n",
            "Epoch 16/100\n",
            "62/62 - 0s - loss: 0.3850 - 216ms/epoch - 3ms/step\n",
            "Epoch 17/100\n",
            "62/62 - 0s - loss: 0.3854 - 203ms/epoch - 3ms/step\n",
            "Epoch 18/100\n",
            "62/62 - 0s - loss: 0.3840 - 196ms/epoch - 3ms/step\n",
            "Epoch 19/100\n",
            "62/62 - 0s - loss: 0.3840 - 230ms/epoch - 4ms/step\n",
            "Epoch 20/100\n",
            "62/62 - 0s - loss: 0.3848 - 199ms/epoch - 3ms/step\n",
            "Epoch 21/100\n",
            "62/62 - 0s - loss: 0.3812 - 193ms/epoch - 3ms/step\n",
            "Epoch 22/100\n",
            "62/62 - 0s - loss: 0.3783 - 195ms/epoch - 3ms/step\n",
            "Epoch 23/100\n",
            "62/62 - 0s - loss: 0.3824 - 197ms/epoch - 3ms/step\n",
            "Epoch 24/100\n",
            "62/62 - 0s - loss: 0.3831 - 189ms/epoch - 3ms/step\n",
            "Epoch 25/100\n",
            "62/62 - 0s - loss: 0.3805 - 190ms/epoch - 3ms/step\n",
            "Epoch 26/100\n",
            "62/62 - 0s - loss: 0.3814 - 201ms/epoch - 3ms/step\n",
            "Epoch 27/100\n",
            "62/62 - 0s - loss: 0.3823 - 187ms/epoch - 3ms/step\n",
            "Epoch 28/100\n",
            "62/62 - 0s - loss: 0.3820 - 204ms/epoch - 3ms/step\n",
            "Epoch 29/100\n",
            "62/62 - 0s - loss: 0.3786 - 207ms/epoch - 3ms/step\n",
            "Epoch 30/100\n",
            "62/62 - 0s - loss: 0.3832 - 203ms/epoch - 3ms/step\n",
            "Epoch 31/100\n",
            "62/62 - 0s - loss: 0.3814 - 195ms/epoch - 3ms/step\n",
            "Epoch 32/100\n",
            "62/62 - 0s - loss: 0.3815 - 193ms/epoch - 3ms/step\n",
            "Epoch 33/100\n",
            "62/62 - 0s - loss: 0.3816 - 202ms/epoch - 3ms/step\n",
            "Epoch 34/100\n",
            "62/62 - 0s - loss: 0.3798 - 191ms/epoch - 3ms/step\n",
            "Epoch 35/100\n",
            "62/62 - 0s - loss: 0.3801 - 201ms/epoch - 3ms/step\n",
            "Epoch 36/100\n",
            "62/62 - 0s - loss: 0.3797 - 196ms/epoch - 3ms/step\n",
            "Epoch 37/100\n",
            "62/62 - 0s - loss: 0.3807 - 237ms/epoch - 4ms/step\n",
            "Epoch 38/100\n",
            "62/62 - 0s - loss: 0.3802 - 262ms/epoch - 4ms/step\n",
            "Epoch 39/100\n",
            "62/62 - 0s - loss: 0.3811 - 254ms/epoch - 4ms/step\n",
            "Epoch 40/100\n",
            "62/62 - 0s - loss: 0.3787 - 277ms/epoch - 4ms/step\n",
            "Epoch 41/100\n",
            "62/62 - 0s - loss: 0.3795 - 244ms/epoch - 4ms/step\n",
            "Epoch 42/100\n",
            "62/62 - 0s - loss: 0.3813 - 208ms/epoch - 3ms/step\n",
            "Epoch 43/100\n",
            "62/62 - 0s - loss: 0.3783 - 190ms/epoch - 3ms/step\n",
            "Epoch 44/100\n",
            "62/62 - 0s - loss: 0.3816 - 204ms/epoch - 3ms/step\n",
            "Epoch 45/100\n",
            "62/62 - 0s - loss: 0.3792 - 211ms/epoch - 3ms/step\n",
            "Epoch 46/100\n",
            "62/62 - 0s - loss: 0.3797 - 194ms/epoch - 3ms/step\n",
            "Epoch 47/100\n",
            "62/62 - 0s - loss: 0.3787 - 211ms/epoch - 3ms/step\n",
            "Epoch 48/100\n",
            "62/62 - 0s - loss: 0.3801 - 193ms/epoch - 3ms/step\n",
            "Epoch 49/100\n",
            "62/62 - 0s - loss: 0.3806 - 198ms/epoch - 3ms/step\n",
            "Epoch 50/100\n",
            "62/62 - 0s - loss: 0.3797 - 198ms/epoch - 3ms/step\n",
            "Epoch 51/100\n",
            "62/62 - 0s - loss: 0.3781 - 200ms/epoch - 3ms/step\n",
            "Epoch 52/100\n",
            "62/62 - 0s - loss: 0.3790 - 224ms/epoch - 4ms/step\n",
            "Epoch 53/100\n",
            "62/62 - 0s - loss: 0.3782 - 197ms/epoch - 3ms/step\n",
            "Epoch 54/100\n",
            "62/62 - 0s - loss: 0.3790 - 198ms/epoch - 3ms/step\n",
            "Epoch 55/100\n",
            "62/62 - 0s - loss: 0.3770 - 187ms/epoch - 3ms/step\n",
            "Epoch 56/100\n",
            "62/62 - 0s - loss: 0.3801 - 202ms/epoch - 3ms/step\n",
            "Epoch 57/100\n",
            "62/62 - 0s - loss: 0.3771 - 209ms/epoch - 3ms/step\n",
            "Epoch 58/100\n",
            "62/62 - 0s - loss: 0.3805 - 203ms/epoch - 3ms/step\n",
            "Epoch 59/100\n",
            "62/62 - 0s - loss: 0.3777 - 206ms/epoch - 3ms/step\n",
            "Epoch 60/100\n",
            "62/62 - 0s - loss: 0.3762 - 202ms/epoch - 3ms/step\n",
            "Epoch 61/100\n",
            "62/62 - 0s - loss: 0.3761 - 193ms/epoch - 3ms/step\n",
            "Epoch 62/100\n",
            "62/62 - 0s - loss: 0.3773 - 221ms/epoch - 4ms/step\n",
            "Epoch 63/100\n",
            "62/62 - 0s - loss: 0.3781 - 205ms/epoch - 3ms/step\n",
            "Epoch 64/100\n",
            "62/62 - 0s - loss: 0.3763 - 199ms/epoch - 3ms/step\n",
            "Epoch 65/100\n",
            "62/62 - 0s - loss: 0.3766 - 191ms/epoch - 3ms/step\n",
            "Epoch 66/100\n",
            "62/62 - 0s - loss: 0.3799 - 191ms/epoch - 3ms/step\n",
            "Epoch 67/100\n",
            "62/62 - 0s - loss: 0.3781 - 209ms/epoch - 3ms/step\n",
            "Epoch 68/100\n",
            "62/62 - 0s - loss: 0.3783 - 192ms/epoch - 3ms/step\n",
            "Epoch 69/100\n",
            "62/62 - 0s - loss: 0.3771 - 207ms/epoch - 3ms/step\n",
            "Epoch 70/100\n",
            "62/62 - 0s - loss: 0.3771 - 188ms/epoch - 3ms/step\n",
            "Epoch 71/100\n",
            "62/62 - 0s - loss: 0.3780 - 188ms/epoch - 3ms/step\n",
            "Epoch 72/100\n",
            "62/62 - 0s - loss: 0.3758 - 222ms/epoch - 4ms/step\n",
            "Epoch 73/100\n",
            "62/62 - 0s - loss: 0.3771 - 206ms/epoch - 3ms/step\n",
            "Epoch 74/100\n",
            "62/62 - 0s - loss: 0.3781 - 196ms/epoch - 3ms/step\n",
            "Epoch 75/100\n",
            "62/62 - 0s - loss: 0.3743 - 196ms/epoch - 3ms/step\n",
            "Epoch 76/100\n",
            "62/62 - 0s - loss: 0.3748 - 187ms/epoch - 3ms/step\n",
            "Epoch 77/100\n",
            "62/62 - 0s - loss: 0.3768 - 215ms/epoch - 3ms/step\n",
            "Epoch 78/100\n",
            "62/62 - 0s - loss: 0.3771 - 190ms/epoch - 3ms/step\n",
            "Epoch 79/100\n",
            "62/62 - 0s - loss: 0.3737 - 196ms/epoch - 3ms/step\n",
            "Epoch 80/100\n",
            "62/62 - 0s - loss: 0.3769 - 189ms/epoch - 3ms/step\n",
            "Epoch 81/100\n",
            "62/62 - 0s - loss: 0.3744 - 186ms/epoch - 3ms/step\n",
            "Epoch 82/100\n",
            "62/62 - 0s - loss: 0.3760 - 209ms/epoch - 3ms/step\n",
            "Epoch 83/100\n",
            "62/62 - 0s - loss: 0.3754 - 198ms/epoch - 3ms/step\n",
            "Epoch 84/100\n",
            "62/62 - 0s - loss: 0.3749 - 188ms/epoch - 3ms/step\n",
            "Epoch 85/100\n",
            "62/62 - 0s - loss: 0.3738 - 187ms/epoch - 3ms/step\n",
            "Epoch 86/100\n",
            "62/62 - 0s - loss: 0.3752 - 187ms/epoch - 3ms/step\n",
            "Epoch 87/100\n",
            "62/62 - 0s - loss: 0.3731 - 192ms/epoch - 3ms/step\n",
            "Epoch 88/100\n",
            "62/62 - 0s - loss: 0.3733 - 196ms/epoch - 3ms/step\n",
            "Epoch 89/100\n",
            "62/62 - 0s - loss: 0.3727 - 199ms/epoch - 3ms/step\n",
            "Epoch 90/100\n",
            "62/62 - 0s - loss: 0.3745 - 251ms/epoch - 4ms/step\n",
            "Epoch 91/100\n",
            "62/62 - 1s - loss: 0.3721 - 661ms/epoch - 11ms/step\n",
            "Epoch 92/100\n",
            "62/62 - 0s - loss: 0.3725 - 261ms/epoch - 4ms/step\n",
            "Epoch 93/100\n",
            "62/62 - 0s - loss: 0.3715 - 314ms/epoch - 5ms/step\n",
            "Epoch 94/100\n",
            "62/62 - 0s - loss: 0.3708 - 390ms/epoch - 6ms/step\n",
            "Epoch 95/100\n",
            "62/62 - 0s - loss: 0.3712 - 201ms/epoch - 3ms/step\n",
            "Epoch 96/100\n",
            "62/62 - 0s - loss: 0.3696 - 192ms/epoch - 3ms/step\n",
            "Epoch 97/100\n",
            "62/62 - 0s - loss: 0.3701 - 213ms/epoch - 3ms/step\n",
            "Epoch 98/100\n",
            "62/62 - 0s - loss: 0.3698 - 213ms/epoch - 3ms/step\n",
            "Epoch 99/100\n",
            "62/62 - 0s - loss: 0.3698 - 205ms/epoch - 3ms/step\n",
            "Epoch 100/100\n",
            "62/62 - 0s - loss: 0.3662 - 184ms/epoch - 3ms/step\n"
          ]
        }
      ],
      "source": [
        "history = model.fit(trainX,trainY, epochs=100, batch_size=16, verbose=2)"
      ]
    },
    {
      "cell_type": "code",
      "source": [
        "model.summary()"
      ],
      "metadata": {
        "colab": {
          "base_uri": "https://localhost:8080/"
        },
        "id": "dcWDGX6utByS",
        "outputId": "37c30f7d-8243-4ef2-e281-78105b64e0ef"
      },
      "execution_count": null,
      "outputs": [
        {
          "output_type": "stream",
          "name": "stdout",
          "text": [
            "Model: \"sequential\"\n",
            "_________________________________________________________________\n",
            " Layer (type)                Output Shape              Param #   \n",
            "=================================================================\n",
            " lstm (LSTM)                 (None, 64)                16896     \n",
            "                                                                 \n",
            " dense (Dense)               (None, 1)                 65        \n",
            "                                                                 \n",
            "=================================================================\n",
            "Total params: 16961 (66.25 KB)\n",
            "Trainable params: 16961 (66.25 KB)\n",
            "Non-trainable params: 0 (0.00 Byte)\n",
            "_________________________________________________________________\n"
          ]
        }
      ]
    },
    {
      "cell_type": "markdown",
      "metadata": {
        "id": "G5wGlxJK3CJy"
      },
      "source": [
        "<div style=\"direction:rtl;text-align:right;font-family:Tahoma\">\n",
        "حالا model.summary() را می‌توانیم صدا بزنیم؟ چرا؟\n",
        "<br>\n",
        "    الان\n",
        "model.input\n",
        "چه چیزی بر می‌گرداند؟\n",
        "</div>"
      ]
    },
    {
      "cell_type": "code",
      "execution_count": 10,
      "metadata": {
        "id": "OXEyoetp3CJz",
        "outputId": "cce57544-ff3d-480e-c513-214aed428519",
        "colab": {
          "base_uri": "https://localhost:8080/",
          "height": 430
        }
      },
      "outputs": [
        {
          "output_type": "display_data",
          "data": {
            "text/plain": [
              "<Figure size 640x480 with 1 Axes>"
            ],
            "image/png": "[encoded data removed]"
          },
          "metadata": {}
        }
      ],
      "source": [
        "import matplotlib.pyplot as plt\n",
        "%matplotlib inline\n",
        "\n",
        "loss = history.history['loss']\n",
        "plt.plot(loss, label='Training loss')\n",
        "plt.legend()\n",
        "\n",
        "plt.show()"
      ]
    },
    {
      "cell_type": "code",
      "source": [
        "trainpredict= model.predict(trainX)\n",
        "testpredict= model.predict(testX)"
      ],
      "metadata": {
        "colab": {
          "base_uri": "https://localhost:8080/"
        },
        "id": "SzhoFL-VUuWb",
        "outputId": "be0eaf9d-7782-4bc6-f9e0-2733d3ee01b9"
      },
      "execution_count": 11,
      "outputs": [
        {
          "output_type": "stream",
          "name": "stdout",
          "text": [
            "31/31 [==============================] - 0s 2ms/step\n",
            "16/16 [==============================] - 0s 2ms/step\n"
          ]
        }
      ]
    },
    {
      "cell_type": "code",
      "source": [
        "predicted= np.concatenate((trainpredict, testpredict), axis=0)\n",
        "\n",
        "plt.plot(x)\n",
        "plt.plot(predicted)\n",
        "plt.axvline(len(trainX), c='r')\n",
        "plt.show()"
      ],
      "metadata": {
        "colab": {
          "base_uri": "https://localhost:8080/",
          "height": 430
        },
        "id": "o6HNTS_xVEVU",
        "outputId": "004c1b4e-c47c-4119-e817-2391fdaba4f0"
      },
      "execution_count": 12,
      "outputs": [
        {
          "output_type": "display_data",
          "data": {
            "text/plain": [
              "<Figure size 640x480 with 1 Axes>"
            ],
            "image/png": "[encoded data removed]"
          },
          "metadata": {}
        }
      ]
    }
  ]
}