{
  "nbformat": 4,
  "nbformat_minor": 0,
  "metadata": {
    "colab": {
      "provenance": [],
      "authorship_tag": "ABX9TyOE4hXTdeSazvt/DP29Q9Y4",
      "include_colab_link": true
    },
    "kernelspec": {
      "name": "python3",
      "display_name": "Python 3"
    },
    "language_info": {
      "name": "python"
    }
  },
  "cells": [
    {
      "cell_type": "markdown",
      "metadata": {
        "id": "view-in-github",
        "colab_type": "text"
      },
      "source": [
        "<a href=\"https://colab.research.google.com/github/SamiraAsadzadeh/Neural-network-exercises/blob/main/PSO.ipynb\" target=\"_parent\"><img src=\"https://colab.research.google.com/assets/colab-badge.svg\" alt=\"Open In Colab\"/></a>"
      ]
    },
    {
      "cell_type": "markdown",
      "metadata": {
        "id": "P-PYVINdJURP"
      },
      "source": [
        " **By: Samira Asadzadeh  40116341054541**\n",
        "\n",
        "*   **Advisor:  Dr. Mr.Asadi**\n",
        "\n",
        "*  **ISLAMIC AZAD UNIVERSITY SHIRAZ BRANCH Faculty of engineering**\n",
        "\n"
      ]
    },
    {
      "cell_type": "markdown",
      "source": [
        "# بهینه سازی شبکه عصبی با الگوریتم ازدحام ذرات"
      ],
      "metadata": {
        "id": "pZUsF7OqVi2-"
      }
    },
    {
      "cell_type": "code",
      "execution_count": null,
      "metadata": {
        "id": "YGCxlOoDyx5D"
      },
      "outputs": [],
      "source": [
        "import numpy as np\n",
        "import random\n"
      ]
    },
    {
      "cell_type": "code",
      "source": [
        "# تابع هدف: این تابع برای محاسبه ارزش هر موقعیت استفاده می‌شود\n",
        "def objective_function(X):\n",
        "  #Dataset\n",
        "      x = np.array ([[1,2,3]])\n",
        "      T = np.array ([[0.9,2.1,2.8]])\n",
        "    #وزن  و بایاس\n",
        "      w1 = X[0]\n",
        "      w2 = X[1]\n",
        "      w3 = X[2]\n",
        "      w4 = X[3]\n",
        "      w5 = X[4]\n",
        "      w6 = X[5]\n",
        "      b1 = X[6]\n",
        "      b2 = X[7]\n",
        "      b3 = X[8]\n",
        "      b4 = X[9]\n",
        "      Error1 = []\n",
        "      for sample in range(x.size):\n",
        "    # لایه پنهان\n",
        "        TF1 = lambda x:x\n",
        "        Z = []\n",
        "        w = [w1, w2, w3]\n",
        "        b = [b1, b2, b3]\n",
        "        for i , k in zip(w, b):\n",
        "          Z.append(TF1(i*x[0, sample]+k))\n",
        "    # لایه خروجی\n",
        "        TF2 = lambda x:x\n",
        "        sum1 = 0\n",
        "        W2= [w4, w5, w6]\n",
        "        for j in range(3):\n",
        "            sum1 += Z[j]*W2[j]\n",
        "        out = TF2(sum1+b4)\n",
        "        Error1.append(np.abs(out-T[0, sample]))\n",
        "        #print(np.sum(Error1))\n",
        "      return np.sum(Error1)\n",
        "\n",
        "# الگوریتم PSO\n",
        "def particle_swarm_optimization(num_particles, num_dimensions, num_iterations):\n",
        "    # مقداردهی اولیه\n",
        "    swarm = []\n",
        "    best_position = []\n",
        "    best_value = float('inf')\n",
        "\n",
        "    for _ in range(num_particles):\n",
        "        position = [random.uniform(-5, 5) for _ in range(num_dimensions)]\n",
        "        velocity = [random.uniform(-1, 1) for _ in range(num_dimensions)]\n",
        "        swarm.append({'position': position, 'velocity': velocity})\n",
        "\n",
        "        # به روز رسانی بهترین موقعیت\n",
        "        value = objective_function(position)\n",
        "        if value < best_value:\n",
        "            best_position = position\n",
        "            best_value = value\n",
        "\n",
        "    # به روز رسانی موقعیت و سرعت\n",
        "    for _ in range(num_iterations):\n",
        "        for particle in swarm:\n",
        "            for i in range(num_dimensions):\n",
        "                # به روز رسانی سرعت\n",
        "                particle['velocity'][i] = particle['velocity'][i] + random.uniform(0, 1) * (best_position[i] - particle['position'][i]) + random.uniform(0, 1) * (particle['position'][i] - particle['position'][i])\n",
        "\n",
        "                # به روز رسانی موقعیت\n",
        "                particle['position'][i] = particle['position'][i] + particle['velocity'][i]\n",
        "\n",
        "            # به روز رسانی بهترین موقعیت\n",
        "            value = objective_function(particle['position'])\n",
        "            if value < best_value:\n",
        "                best_position = particle['position']\n",
        "                best_value = value\n",
        "\n",
        "    return best_position, best_value\n",
        "\n",
        "# تست الگوریتم PSO\n",
        "num_particles = 50\n",
        "num_dimensions = 10\n",
        "num_iterations = 100\n",
        "\n",
        "best_position, best_value = particle_swarm_optimization(num_particles, num_dimensions, num_iterations)\n",
        "print(\"Best Position:\", best_position)\n",
        "print(\"Best Value:\", best_value)"
      ],
      "metadata": {
        "colab": {
          "base_uri": "https://localhost:8080/"
        },
        "id": "OHVLrpW-6Y5U",
        "outputId": "e000164b-be15-4e3b-b0a8-ffce618939bf"
      },
      "execution_count": null,
      "outputs": [
        {
          "output_type": "stream",
          "name": "stdout",
          "text": [
            "Best Position: [22.947789900188926, -45.66174278991828, 50.36572360493931, -78.5702016183137, -359.98656365287746, 97.98243934075492, 49.48762595799442, -32.64557459436657, -386.9696648251028, -44.26719054741114]\n",
            "Best Value: 1.4967739223872243\n"
          ]
        }
      ]
    }
  ]
}