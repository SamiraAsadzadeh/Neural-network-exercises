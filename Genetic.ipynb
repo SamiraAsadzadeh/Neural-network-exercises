{
  "nbformat": 4,
  "nbformat_minor": 0,
  "metadata": {
    "colab": {
      "provenance": [],
      "authorship_tag": "ABX9TyPisfG6Sg38t2ObMTT0xawJ",
      "include_colab_link": true
    },
    "kernelspec": {
      "name": "python3",
      "display_name": "Python 3"
    },
    "language_info": {
      "name": "python"
    }
  },
  "cells": [
    {
      "cell_type": "markdown",
      "metadata": {
        "id": "view-in-github",
        "colab_type": "text"
      },
      "source": [
        "<a href=\"https://colab.research.google.com/github/SamiraAsadzadeh/Neural-network-exercises/blob/main/Genetic.ipynb\" target=\"_parent\"><img src=\"https://colab.research.google.com/assets/colab-badge.svg\" alt=\"Open In Colab\"/></a>"
      ]
    },
    {
      "cell_type": "markdown",
      "metadata": {
        "id": "P-PYVINdJURP"
      },
      "source": [
        " **By: Samira Asadzadeh  40116341054541**\n",
        "\n",
        "*   **Advisor:  Dr. Mr.Asadi**\n",
        "\n",
        "*  **ISLAMIC AZAD UNIVERSITY SHIRAZ BRANCH Faculty of engineering**\n",
        "\n"
      ]
    },
    {
      "cell_type": "markdown",
      "source": [
        "# بهینه سازی شبکه عصبی با الگوریتم ژنتیک"
      ],
      "metadata": {
        "id": "c4OOkQSkU7gu"
      }
    },
    {
      "cell_type": "code",
      "execution_count": 39,
      "metadata": {
        "id": "LdHtrTZZgZlT"
      },
      "outputs": [],
      "source": [
        "import random\n",
        "import numpy as np\n"
      ]
    },
    {
      "cell_type": "code",
      "source": [
        "# تابع ارزیابی: این تابع برای ارزیابی هر فرد در جمعیت استفاده می‌شود\n",
        "def fitness_function(X):\n",
        "      #Dataset\n",
        "      x = np.array ([[1,2,3]])\n",
        "      y = np.array ([[0.9,2.1,2.8]])\n",
        "    #وزن  و بایاس\n",
        "      w1 = X[0]\n",
        "      w2 = X[1]\n",
        "      w3 = X[2]\n",
        "      w4 = X[3]\n",
        "      w5 = X[4]\n",
        "      w6 = X[5]\n",
        "      b1 = X[6]\n",
        "      b2 = X[7]\n",
        "      b3 = X[8]\n",
        "      b4 = X[9]\n",
        "      Error1 = []\n",
        "      for sample in range(x.size): #x.size=3\n",
        "    # لایه پنهان\n",
        "        TF1 = lambda x:x\n",
        "        Z = []\n",
        "        w = [w1, w2, w3]\n",
        "        b = [b1, b2, b3]\n",
        "        for i , k in zip(w, b):   #i=w , k=b\n",
        "          Z.append(TF1(i*x[0, sample]+k)) # TF1= w*x+b\n",
        "                        #x[0, 1] = 2\n",
        "    # لایه خروجی\n",
        "        TF2 = lambda x:x\n",
        "        sum1 = 0\n",
        "        W2= [w4, w5, w6]\n",
        "        for j in range(3):\n",
        "            sum1 += Z[j]*W2[j]\n",
        "        out = TF2(sum1+b4)\n",
        "        Error1.append(np.abs(out-y[0, sample])) # MSE      (y= target)\n",
        "        #print(np.sum(Error1))\n",
        "      return np.sum(Error1)\n",
        "\n",
        "# تولید جمعیت اولیه\n",
        "def generate_population(population_size, gene_length):\n",
        "    population = []\n",
        "    for _ in range(population_size):\n",
        "        individual = [random.randint(0, 1) for _ in range(gene_length)]\n",
        "        population.append(individual)\n",
        "    return population #50\n",
        "\n",
        "# انتخاب والدین برای تولید فرزندان\n",
        "def select_parents(population):\n",
        "    parents = []\n",
        "    for _ in range(2):\n",
        "        parent = random.choice(population)\n",
        "        parents.append(parent)\n",
        "    return parents\n",
        "\n",
        "# ترکیب دو والدین برای تولید فرزند\n",
        "def crossover(parents):\n",
        "    child = []\n",
        "    for gene_index in range(len(parents[0])):\n",
        "        if random.random() < 0.5:\n",
        "            child.append(parents[0][gene_index])\n",
        "        else:\n",
        "            child.append(parents[1][gene_index])\n",
        "\n",
        "    return child\n",
        "\n",
        "# جهش فرزند\n",
        "def mutate(child, mutation_rate):\n",
        "    for gene_index in range(len(child)):\n",
        "        if random.random() < mutation_rate:\n",
        "            child[gene_index] = 1 - child[gene_index]\n",
        "    return child\n",
        "\n",
        "# الگوریتم ژنتیک\n",
        "def genetic_algorithm(population_size, gene_length, generations, mutation_rate):\n",
        "    population = generate_population(population_size, gene_length)\n",
        "    for _ in range(generations):\n",
        "        new_population = []\n",
        "        for _ in range(population_size):\n",
        "            parents = select_parents(population)\n",
        "            child = crossover(parents)\n",
        "            child = mutate(child, mutation_rate)\n",
        "            new_population.append(child)\n",
        "        population = new_population\n",
        "    best_individual = min(population, key=fitness_function)\n",
        "    return best_individual\n",
        "\n",
        "# تست الگوریتم ژنتیک\n",
        "population_size = 50\n",
        "gene_length = 10\n",
        "generations = 100\n",
        "mutation_rate = 0.01\n",
        "\n",
        "\n",
        "best_individual = genetic_algorithm(population_size, gene_length, generations, mutation_rate)\n",
        "print(\"Best Individual:\", best_individual)\n",
        "print(\"Fitness Score:\", fitness_function(best_individual))"
      ],
      "metadata": {
        "colab": {
          "base_uri": "https://localhost:8080/"
        },
        "id": "5ZEhVrlYpfUW",
        "outputId": "f5829aff-e130-402e-e1ac-5799995b1364"
      },
      "execution_count": 44,
      "outputs": [
        {
          "output_type": "stream",
          "name": "stdout",
          "text": [
            "Best Individual: [1, 0, 1, 1, 0, 0, 0, 1, 0, 0]\n",
            "Fitness Score: 0.40000000000000024\n"
          ]
        }
      ]
    }
  ]
}