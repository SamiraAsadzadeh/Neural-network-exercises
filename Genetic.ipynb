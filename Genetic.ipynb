{
  "nbformat": 4,
  "nbformat_minor": 0,
  "metadata": {
    "colab": {
      "provenance": [],
      "authorship_tag": "ABX9TyOVV1AAybFeARiSdy/m9NNQ",
      "include_colab_link": true
    },
    "kernelspec": {
      "name": "python3",
      "display_name": "Python 3"
    },
    "language_info": {
      "name": "python"
    }
  },
  "cells": [
    {
      "cell_type": "markdown",
      "metadata": {
        "id": "view-in-github",
        "colab_type": "text"
      },
      "source": [
        "<a href=\"https://colab.research.google.com/github/SamiraAsadzadeh/Neural-network-exercises/blob/main/Genetic.ipynb\" target=\"_parent\"><img src=\"https://colab.research.google.com/assets/colab-badge.svg\" alt=\"Open In Colab\"/></a>"
      ]
    },
    {
      "cell_type": "markdown",
      "metadata": {
        "id": "P-PYVINdJURP"
      },
      "source": [
        " **By: Samira Asadzadeh  40116341054541**\n",
        "\n",
        "*   **Advisor:  Dr. Mr.Asadi**\n",
        "\n",
        "*  **ISLAMIC AZAD UNIVERSITY SHIRAZ BRANCH Faculty of engineering**\n",
        "\n"
      ]
    },
    {
      "cell_type": "markdown",
      "source": [
        "# بهینه سازی شبکه عصبی با الگوریتم ژنتیک"
      ],
      "metadata": {
        "id": "c4OOkQSkU7gu"
      }
    },
    {
      "cell_type": "code",
      "source": [
        "!pip install geneticalgorithm"
      ],
      "metadata": {
        "colab": {
          "base_uri": "https://localhost:8080/"
        },
        "id": "9CB96GhsnOjK",
        "outputId": "16e65b6f-dbc8-419f-bc5f-8106c09da0a4"
      },
      "execution_count": null,
      "outputs": [
        {
          "output_type": "stream",
          "name": "stdout",
          "text": [
            "Collecting geneticalgorithm\n",
            "  Downloading geneticalgorithm-1.0.2-py3-none-any.whl (16 kB)\n",
            "Collecting func-timeout (from geneticalgorithm)\n",
            "  Downloading func_timeout-4.3.5.tar.gz (44 kB)\n",
            "\u001b[2K     \u001b[90m━━━━━━━━━━━━━━━━━━━━━━━━━━━━━━━━━━━━━━━━\u001b[0m \u001b[32m44.3/44.3 kB\u001b[0m \u001b[31m1.7 MB/s\u001b[0m eta \u001b[36m0:00:00\u001b[0m\n",
            "\u001b[?25h  Preparing metadata (setup.py) ... \u001b[?25l\u001b[?25hdone\n",
            "Requirement already satisfied: numpy in /usr/local/lib/python3.10/dist-packages (from geneticalgorithm) (1.23.5)\n",
            "Building wheels for collected packages: func-timeout\n",
            "  Building wheel for func-timeout (setup.py) ... \u001b[?25l\u001b[?25hdone\n",
            "  Created wheel for func-timeout: filename=func_timeout-4.3.5-py3-none-any.whl size=15079 sha256=589675edef27d62dfb8c770b41043d1d08046ecbf11a9d52d2dc6666503b7b03\n",
            "  Stored in directory: /root/.cache/pip/wheels/3f/83/19/b5552bb9630e353f7c5b15be44bf10900afe1abbbfcf536afd\n",
            "Successfully built func-timeout\n",
            "Installing collected packages: func-timeout, geneticalgorithm\n",
            "Successfully installed func-timeout-4.3.5 geneticalgorithm-1.0.2\n"
          ]
        }
      ]
    },
    {
      "cell_type": "code",
      "execution_count": null,
      "metadata": {
        "id": "LdHtrTZZgZlT"
      },
      "outputs": [],
      "source": [
        "import random\n",
        "import numpy as np\n",
        "from geneticalgorithm import geneticalgorithm as ga"
      ]
    },
    {
      "cell_type": "code",
      "source": [
        "# تابع ارزیابی: این تابع برای ارزیابی هر فرد در جمعیت استفاده می‌شود\n",
        "def fitness_function(X):\n",
        "      #Dataset\n",
        "      x = np.array ([[1,2,3]])\n",
        "      T = np.array ([[0.9,2.1,2.8]])\n",
        "    #وزن  و بایاس\n",
        "      w1 = X[0]\n",
        "      w2 = X[1]\n",
        "      w3 = X[2]\n",
        "      w4 = X[3]\n",
        "      w5 = X[4]\n",
        "      w6 = X[5]\n",
        "      b1 = X[6]\n",
        "      b2 = X[7]\n",
        "      b3 = X[8]\n",
        "      b4 = X[9]\n",
        "      Error1 = []\n",
        "      for sample in range(x.size):\n",
        "    # لایه پنهان\n",
        "        TF1 = lambda x:x\n",
        "        Z = []\n",
        "        w = [w1, w2, w3]\n",
        "        b = [b1, b2, b3]\n",
        "        for i , k in zip(w, b):\n",
        "          Z.append(TF1(i*x[0, sample]+k))\n",
        "    # لایه خروجی\n",
        "        TF2 = lambda x:x\n",
        "        sum1 = 0\n",
        "        W2= [w4, w5, w6]\n",
        "        for j in range(3):\n",
        "            sum1 += Z[j]*W2[j]\n",
        "        out = TF2(sum1+b4)\n",
        "        Error1.append(np.abs(out-T[0, sample]))\n",
        "        #print(np.sum(Error1))\n",
        "      return np.sum(Error1)\n",
        "\n",
        "# تولید جمعیت اولیه\n",
        "def generate_population(population_size, gene_length):\n",
        "    population = []\n",
        "    for _ in range(population_size):\n",
        "        individual = [random.randint(0, 1) for _ in range(gene_length)]\n",
        "        population.append(individual)\n",
        "    return population\n",
        "\n",
        "# انتخاب والدین برای تولید فرزندان\n",
        "def select_parents(population):\n",
        "    parents = []\n",
        "    for _ in range(2):\n",
        "        parent = random.choice(population)\n",
        "        parents.append(parent)\n",
        "    return parents\n",
        "\n",
        "# ترکیب دو والدین برای تولید فرزند\n",
        "def crossover(parents):\n",
        "    child = []\n",
        "    for gene_index in range(len(parents[0])):\n",
        "        if random.random() < 0.5:\n",
        "            child.append(parents[0][gene_index])\n",
        "        else:\n",
        "            child.append(parents[1][gene_index])\n",
        "    return child\n",
        "\n",
        "# جهش فرزند\n",
        "def mutate(child, mutation_rate):\n",
        "    for gene_index in range(len(child)):\n",
        "        if random.random() < mutation_rate:\n",
        "            child[gene_index] = 1 - child[gene_index]\n",
        "    return child\n",
        "\n",
        "# الگوریتم ژنتیک\n",
        "def genetic_algorithm(population_size, gene_length, generations, mutation_rate):\n",
        "    population = generate_population(population_size, gene_length)\n",
        "    for _ in range(generations):\n",
        "        new_population = []\n",
        "        for _ in range(population_size):\n",
        "            parents = select_parents(population)\n",
        "            child = crossover(parents)\n",
        "            child = mutate(child, mutation_rate)\n",
        "            new_population.append(child)\n",
        "        population = new_population\n",
        "    best_individual = max(population, key=fitness_function)\n",
        "    return best_individual\n",
        "\n",
        "# تست الگوریتم ژنتیک\n",
        "population_size = 10\n",
        "gene_length = 10\n",
        "generations = 50\n",
        "mutation_rate = 0.01\n",
        "\n",
        "\n",
        "best_individual = genetic_algorithm(population_size, gene_length, generations, mutation_rate)\n",
        "print(\"Best Individual:\", best_individual)\n",
        "print(\"Fitness Score:\", fitness_function(best_individual))"
      ],
      "metadata": {
        "colab": {
          "base_uri": "https://localhost:8080/"
        },
        "id": "5ZEhVrlYpfUW",
        "outputId": "930ad882-ddb6-4c80-b27e-d2533da3289f"
      },
      "execution_count": null,
      "outputs": [
        {
          "output_type": "stream",
          "name": "stdout",
          "text": [
            "Best Individual: [1, 1, 1, 1, 1, 1, 1, 0, 1, 0]\n",
            "Fitness Score: 18.2\n"
          ]
        }
      ]
    },
    {
      "cell_type": "code",
      "execution_count": null,
      "metadata": {
        "colab": {
          "base_uri": "https://localhost:8080/",
          "height": 576
        },
        "id": "CdLyw482mjYs",
        "outputId": "ca7f38ca-bf62-4de9-9fdc-2beb3a4ae5f9"
      },
      "outputs": [
        {
          "output_type": "stream",
          "name": "stdout",
          "text": [
            " The best solution found:\n",
            " [1.27941229 0.56919916 2.02011028 0.31353412 0.50371913 0.01638185\n",
            " 1.0413821  0.0538344  4.15525687 0.21656911]\n",
            "\n",
            " Objective function:\n",
            " 0.480164276242102\n"
          ]
        },
        {
          "output_type": "display_data",
          "data": {
            "text/plain": [
              "<Figure size 640x480 with 1 Axes>"
            ],
            "image/png": "[encoded data removed]"
          },
          "metadata": {}
        }
      ],
      "source": [
        "def f(X):\n",
        "#Dataset\n",
        "  x = np.array ([[1,2,3]])\n",
        "  T = np.array ([[0.9,2.1,2.8]])\n",
        "#وزن  و بایاس\n",
        "  w1 = X[0]\n",
        "  w2 = X[1]\n",
        "  w3 = X[2]\n",
        "  w4 = X[3]\n",
        "  w5 = X[4]\n",
        "  w6 = X[5]\n",
        "  b1 = X[6]\n",
        "  b2 = X[7]\n",
        "  b3 = X[8]\n",
        "  b4 = X[9]\n",
        "  Error1 = []\n",
        "  for sample in range(x.size):\n",
        "# لایه پنهان\n",
        "    TF1 = lambda x:x\n",
        "    Z = []\n",
        "    w = [w1, w2, w3]\n",
        "    b = [b1, b2, b3]\n",
        "    for i , k in zip(w, b):\n",
        "      Z.append(TF1(i*x[0, sample]+k))\n",
        " # لایه خروجی\n",
        "    TF2 = lambda x:x\n",
        "    sum1 = 0\n",
        "    W2= [w4, w5, w6]\n",
        "    for j in range(3):\n",
        "        sum1 += Z[j]*W2[j]\n",
        "    out = TF2(sum1+b4)\n",
        "    Error1.append(np.abs(out-T[0, sample]))\n",
        "    #print(np.sum(Error1))\n",
        "  return np.sum(Error1)\n",
        "\n",
        "varbound=np.array([[0,10]]*10)\n",
        "\n",
        "algorithm_param = {'max_num_iteration': 1000,\\\n",
        "                   'population_size':10,\\\n",
        "                   'mutation_probability':0.1,\\\n",
        "                   'elit_ratio': 0.01,\\\n",
        "                   'crossover_probability': 0.5,\\\n",
        "                   'parents_portion': 0.3,\\\n",
        "                   'crossover_type':'uniform',\\\n",
        "                   'max_iteration_without_improv':None}\n",
        "\n",
        "model=ga(function=f,\\\n",
        "            dimension=10,\\\n",
        "            variable_type='real',\\\n",
        "            variable_boundaries=varbound,\\\n",
        "            algorithm_parameters=algorithm_param)\n",
        "\n",
        "model.run()"
      ]
    }
  ]
}