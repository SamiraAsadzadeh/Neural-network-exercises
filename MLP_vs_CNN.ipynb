{
  "nbformat": 4,
  "nbformat_minor": 0,
  "metadata": {
    "colab": {
      "provenance": [],
      "authorship_tag": "ABX9TyN7ddyvypzG9wkviaBsIYz6",
      "include_colab_link": true
    },
    "kernelspec": {
      "name": "python3",
      "display_name": "Python 3"
    },
    "language_info": {
      "name": "python"
    }
  },
  "cells": [
    {
      "cell_type": "markdown",
      "metadata": {
        "id": "view-in-github",
        "colab_type": "text"
      },
      "source": [
        "<a href=\"https://colab.research.google.com/github/SamiraAsadzadeh/Neural-network-exercises/blob/main/MLP_vs_CNN.ipynb\" target=\"_parent\"><img src=\"https://colab.research.google.com/assets/colab-badge.svg\" alt=\"Open In Colab\"/></a>"
      ]
    },
    {
      "cell_type": "markdown",
      "metadata": {
        "id": "ua74kLINigno"
      },
      "source": [
        " **By: Samira Asadzadeh  40116341054541**\n",
        "\n",
        "*   **Advisor:  Dr. Mr.Asadi**\n",
        "\n",
        "*  **ISLAMIC AZAD UNIVERSITY SHIRAZ BRANCH Faculty of engineering**\n",
        "\n"
      ]
    },
    {
      "cell_type": "code",
      "execution_count": null,
      "metadata": {
        "id": "tF6dtGO6ikSD"
      },
      "outputs": [],
      "source": [
        "from tensorflow import keras\n",
        "from keras.datasets import mnist\n",
        "from tensorflow.keras import layers\n",
        "from tensorflow.keras.layers import Conv2D, MaxPooling2D, Dense, Flatten\n",
        "from IPython.display import Image\n",
        "from google.colab.patches import cv2_imshow\n",
        "from sklearn import metrics\n",
        "import numpy as np\n",
        "import pandas as pd\n",
        "import matplotlib.pyplot as plt\n"
      ]
    },
    {
      "cell_type": "code",
      "source": [
        "def show_images(images: list) -> None:\n",
        "    n: int = len(images)\n",
        "    f = plt.figure()\n",
        "    for i in range(n):\n",
        "        f.add_subplot(1, n, i + 1)\n",
        "        plt.imshow(images[i], cmap='gray')\n",
        "    plt.show(block=True)\n",
        "\n",
        "def show_image(image) -> None:\n",
        "    plt.imshow(image, cmap='gray')\n",
        "    plt.show(block=True)\n",
        "\n"
      ],
      "metadata": {
        "id": "63K9mzORnlT1"
      },
      "execution_count": null,
      "outputs": []
    },
    {
      "cell_type": "markdown",
      "source": [
        "# DataSet"
      ],
      "metadata": {
        "id": "1l2Ijc4TTDQD"
      }
    },
    {
      "cell_type": "code",
      "metadata": {
        "id": "oD_pkZkG8yEa",
        "outputId": "cb530f6d-be35-4e1a-de80-2fea9323bbf0",
        "colab": {
          "base_uri": "https://localhost:8080/",
          "height": 141
        }
      },
      "source": [
        "(x_train, y_train), (x_test, y_test) = mnist.load_data()\n",
        "#x_train.shape-->(60000, 28, 28)\n",
        "# print out first 10 images in our training data\n",
        "imgplot = show_images(x_train[0:10])\n",
        "\n",
        "# check the size of our dataset\n",
        "print(\"number of training images:\",x_train.shape[0])\n",
        "print(\"number of test images:\",y_test.shape[0])"
      ],
      "execution_count": null,
      "outputs": [
        {
          "output_type": "display_data",
          "data": {
            "text/plain": [
              "<Figure size 640x480 with 10 Axes>"
            ],
            "image/png": "[encoded data removed]"
          },
          "metadata": {}
        },
        {
          "output_type": "stream",
          "name": "stdout",
          "text": [
            "number of training images: 60000\n",
            "number of test images: 10000\n"
          ]
        }
      ]
    },
    {
      "cell_type": "markdown",
      "source": [
        "# input of MLP, a images were transfer into a vector"
      ],
      "metadata": {
        "id": "44edav0QpGgG"
      }
    },
    {
      "cell_type": "code",
      "metadata": {
        "id": "1l_nAYSJ8yEg"
      },
      "source": [
        "# update all the training, testing dataset.\n",
        "x_train = x_train.reshape(60000, 28*28)\n",
        "x_test = x_test.reshape(10000, 28*28)\n",
        "x_train = x_train.astype('float32')\n",
        "x_test = x_test.astype('float32')\n",
        "\n",
        "# normalize them into range [0, 1]\n",
        "x_train /= 255\n",
        "x_test /= 255"
      ],
      "execution_count": null,
      "outputs": []
    },
    {
      "cell_type": "markdown",
      "source": [
        "# **Model MLP**"
      ],
      "metadata": {
        "id": "vAVzMEVp2mnU"
      }
    },
    {
      "cell_type": "code",
      "source": [
        "from keras.src import activations\n",
        "num_classes = 10\n",
        "model = keras.Sequential(\n",
        "    [\n",
        "        layers.Dense(500, input_shape=(28*28,), activation='relu'), #Parm = (28*28+1)*500 = 392500\n",
        "        layers.Dense(250, activation='relu'),\n",
        "        layers.Dense(num_classes, activation='softmax')\n",
        "    ]\n",
        "\n",
        ");\n",
        "model.summary()"
      ],
      "metadata": {
        "colab": {
          "base_uri": "https://localhost:8080/"
        },
        "id": "_CteFlEAr0ip",
        "outputId": "933dc287-ddb4-47c4-fbce-6485eaed9726"
      },
      "execution_count": null,
      "outputs": [
        {
          "output_type": "stream",
          "name": "stdout",
          "text": [
            "Model: \"sequential\"\n",
            "_________________________________________________________________\n",
            " Layer (type)                Output Shape              Param #   \n",
            "=================================================================\n",
            " dense_3 (Dense)             (None, 500)               392500    \n",
            "                                                                 \n",
            " dense_4 (Dense)             (None, 250)               125250    \n",
            "                                                                 \n",
            " dense_5 (Dense)             (None, 10)                2510      \n",
            "                                                                 \n",
            "=================================================================\n",
            "Total params: 520260 (1.98 MB)\n",
            "Trainable params: 520260 (1.98 MB)\n",
            "Non-trainable params: 0 (0.00 Byte)\n",
            "_________________________________________________________________\n"
          ]
        }
      ]
    },
    {
      "cell_type": "markdown",
      "source": [
        "# **Model Compile**"
      ],
      "metadata": {
        "id": "mFW7coS75PH4"
      }
    },
    {
      "cell_type": "code",
      "source": [
        "model.compile(optimizer = 'SGD',\n",
        "              loss = 'sparse_categorical_crossentropy',\n",
        "              metrics = ['accuracy'])\n",
        "\n",
        "batch_size = 250\n",
        "epochs = 10\n",
        "history = model.fit(x_train, y_train,\n",
        "                    epochs=epochs,\n",
        "                    validation_split=0.2)"
      ],
      "metadata": {
        "colab": {
          "base_uri": "https://localhost:8080/"
        },
        "id": "ZNl_f8Fzya0c",
        "outputId": "399c18dc-01ad-4ee4-dd45-fffa8da41bb2"
      },
      "execution_count": null,
      "outputs": [
        {
          "output_type": "stream",
          "name": "stdout",
          "text": [
            "Epoch 1/10\n",
            "1500/1500 [==============================] - 13s 8ms/step - loss: 0.6267 - accuracy: 0.8413 - val_loss: 0.3116 - val_accuracy: 0.9128\n",
            "Epoch 2/10\n",
            "1500/1500 [==============================] - 12s 8ms/step - loss: 0.2950 - accuracy: 0.9165 - val_loss: 0.2518 - val_accuracy: 0.9289\n",
            "Epoch 3/10\n",
            "1500/1500 [==============================] - 12s 8ms/step - loss: 0.2430 - accuracy: 0.9305 - val_loss: 0.2182 - val_accuracy: 0.9374\n",
            "Epoch 4/10\n",
            "1500/1500 [==============================] - 13s 9ms/step - loss: 0.2098 - accuracy: 0.9398 - val_loss: 0.1976 - val_accuracy: 0.9452\n",
            "Epoch 5/10\n",
            "1500/1500 [==============================] - 12s 8ms/step - loss: 0.1841 - accuracy: 0.9467 - val_loss: 0.1763 - val_accuracy: 0.9501\n",
            "Epoch 6/10\n",
            "1500/1500 [==============================] - 12s 8ms/step - loss: 0.1640 - accuracy: 0.9537 - val_loss: 0.1624 - val_accuracy: 0.9546\n",
            "Epoch 7/10\n",
            "1500/1500 [==============================] - 13s 9ms/step - loss: 0.1478 - accuracy: 0.9580 - val_loss: 0.1504 - val_accuracy: 0.9580\n",
            "Epoch 8/10\n",
            "1500/1500 [==============================] - 11s 8ms/step - loss: 0.1346 - accuracy: 0.9624 - val_loss: 0.1410 - val_accuracy: 0.9617\n",
            "Epoch 9/10\n",
            "1500/1500 [==============================] - 14s 9ms/step - loss: 0.1227 - accuracy: 0.9650 - val_loss: 0.1344 - val_accuracy: 0.9628\n",
            "Epoch 10/10\n",
            "1500/1500 [==============================] - 13s 8ms/step - loss: 0.1123 - accuracy: 0.9689 - val_loss: 0.1291 - val_accuracy: 0.9640\n"
          ]
        }
      ]
    },
    {
      "cell_type": "markdown",
      "source": [
        "# **Model Evaluation**"
      ],
      "metadata": {
        "id": "I_rBAI_A4c76"
      }
    },
    {
      "cell_type": "code",
      "source": [
        "loss_ , acc = model.evaluate(x_test, y_test, verbose=0)\n",
        "print('Test loss:', loss_)\n",
        "print('Test accuracy:', acc)"
      ],
      "metadata": {
        "colab": {
          "base_uri": "https://localhost:8080/"
        },
        "id": "BNj9FYqO3kGs",
        "outputId": "01f15220-42f4-4c4d-f726-629a557c8702"
      },
      "execution_count": null,
      "outputs": [
        {
          "output_type": "stream",
          "name": "stdout",
          "text": [
            "Test loss: 0.12267787754535675\n",
            "Test accuracy: 0.9648000001907349\n"
          ]
        }
      ]
    },
    {
      "cell_type": "markdown",
      "source": [
        "# **Model Prediction**"
      ],
      "metadata": {
        "id": "Kp9O0B0L5Da-"
      }
    },
    {
      "cell_type": "code",
      "source": [
        "prediction = model.predict(x_test)\n",
        "classes_x=np.argmax(prediction,axis=1)#این دستور خروجی پیش بینی شده را که به صورت یک آرایه هست را به یک عدد تبدیل می کند\n",
        "print('Test prediction:', classes_x)"
      ],
      "metadata": {
        "colab": {
          "base_uri": "https://localhost:8080/"
        },
        "id": "VcKysoSz4897",
        "outputId": "24f32fbe-b778-47ab-86dd-f7f25d53217d"
      },
      "execution_count": null,
      "outputs": [
        {
          "output_type": "stream",
          "name": "stdout",
          "text": [
            "313/313 [==============================] - 1s 4ms/step\n",
            "Test prediction: [7 2 1 ... 4 5 6]\n"
          ]
        }
      ]
    },
    {
      "cell_type": "code",
      "source": [
        "(_, _), (x_test_image, y_test_label) = mnist.load_data()\n",
        "\n",
        "\n",
        "b=0\n",
        "f,axs = plt.subplots(1,10, figsize=(15, 15))\n",
        "\n",
        "for t in range (len(y_test)):\n",
        "  if b>=10:\n",
        "    break\n",
        "  if (classes_x[t] !=  y_test_label[t]):\n",
        "    axs[b].imshow(x_test_image[t], cmap='gray')\n",
        "    axs[b].set_title(f'true label:{y_test_label[t]} \\n' f'pred label:{classes_x[t]}')\n",
        "    axs[b].axis('off')\n",
        "\n",
        "    b+=1\n"
      ],
      "metadata": {
        "colab": {
          "base_uri": "https://localhost:8080/",
          "height": 178
        },
        "id": "zP2lnSvVEg2B",
        "outputId": "5c0c7bfd-6f0c-4315-e743-836d7ca95a7f"
      },
      "execution_count": null,
      "outputs": [
        {
          "output_type": "display_data",
          "data": {
            "text/plain": [
              "<Figure size 1500x1500 with 10 Axes>"
            ],
            "image/png": "[encoded data removed]"
          },
          "metadata": {}
        }
      ]
    },
    {
      "cell_type": "code",
      "source": [
        "b=0\n",
        "f,axs = plt.subplots(1,10, figsize=(15, 15))\n",
        "\n",
        "for t in range (len(y_test_label)):\n",
        "  if b>=10:\n",
        "    break\n",
        "  if (classes_x[t] ==  y_test_label[t]):\n",
        "    axs[b].imshow(x_test_image[t], cmap='gray')\n",
        "    axs[b].set_title(f'true label:{y_test_label[t]} \\n' f'pred label:{classes_x[t]}')\n",
        "    axs[b].axis('off')\n",
        "\n",
        "    b+=1\n"
      ],
      "metadata": {
        "colab": {
          "base_uri": "https://localhost:8080/",
          "height": 178
        },
        "outputId": "241fc945-c12c-453c-ba22-f28c2d636032",
        "id": "phly23xr3MVX"
      },
      "execution_count": null,
      "outputs": [
        {
          "output_type": "display_data",
          "data": {
            "text/plain": [
              "<Figure size 1500x1500 with 10 Axes>"
            ],
            "image/png": "[encoded data removed]"
          },
          "metadata": {}
        }
      ]
    },
    {
      "cell_type": "markdown",
      "source": [
        "# DataSet"
      ],
      "metadata": {
        "id": "ObJjSQjyS6J6"
      }
    },
    {
      "cell_type": "code",
      "metadata": {
        "outputId": "fa91cc76-8585-4aeb-a4dd-263610d53b8b",
        "colab": {
          "base_uri": "https://localhost:8080/",
          "height": 141
        },
        "id": "H2pwM-NURtkZ"
      },
      "source": [
        "(x_train, y_train), (x_test, y_test) = mnist.load_data()\n",
        "#x_train.shape-->(60000, 28, 28)\n",
        "# print out first 10 images in our training data\n",
        "imgplot = show_images(x_train[0:10])\n",
        "\n",
        "# check the size of our dataset\n",
        "print(\"number of training images:\",x_train.shape[0])\n",
        "print(\"number of test images:\",y_test.shape[0])"
      ],
      "execution_count": null,
      "outputs": [
        {
          "output_type": "display_data",
          "data": {
            "text/plain": [
              "<Figure size 640x480 with 10 Axes>"
            ],
            "image/png": "[encoded data removed]"
          },
          "metadata": {}
        },
        {
          "output_type": "stream",
          "name": "stdout",
          "text": [
            "number of training images: 60000\n",
            "number of test images: 10000\n"
          ]
        }
      ]
    },
    {
      "cell_type": "markdown",
      "source": [
        "# **Model CNN**"
      ],
      "metadata": {
        "id": "foiGRjB2-aek"
      }
    },
    {
      "cell_type": "code",
      "source": [
        "num_filters = 16\n",
        "filter_size = 3\n",
        "pool_size = 2\n",
        "\n",
        "# Build the model.\n",
        "model = keras.Sequential([\n",
        "  Conv2D(num_filters, filter_size, input_shape=(28, 28, 1), activation='relu', padding = 'same', strides = 2),\n",
        "  Conv2D(num_filters, filter_size, activation='relu', padding = 'same', strides = 2),\n",
        "  MaxPooling2D(pool_size=pool_size),\n",
        "  Flatten(),\n",
        "  Dense(10, activation='softmax'),\n",
        "])\n",
        "model.summary()"
      ],
      "metadata": {
        "colab": {
          "base_uri": "https://localhost:8080/"
        },
        "id": "Tg8356Kv-02-",
        "outputId": "3121dfd2-8d30-47ae-ccc6-1f2080ba693f"
      },
      "execution_count": null,
      "outputs": [
        {
          "output_type": "stream",
          "name": "stdout",
          "text": [
            "Model: \"sequential_8\"\n",
            "_________________________________________________________________\n",
            " Layer (type)                Output Shape              Param #   \n",
            "=================================================================\n",
            " conv2d_11 (Conv2D)          (None, 14, 14, 16)        160       \n",
            "                                                                 \n",
            " conv2d_12 (Conv2D)          (None, 7, 7, 16)          2320      \n",
            "                                                                 \n",
            " max_pooling2d_10 (MaxPooli  (None, 3, 3, 16)          0         \n",
            " ng2D)                                                           \n",
            "                                                                 \n",
            " flatten_7 (Flatten)         (None, 144)               0         \n",
            "                                                                 \n",
            " dense_13 (Dense)            (None, 10)                1450      \n",
            "                                                                 \n",
            "=================================================================\n",
            "Total params: 3930 (15.35 KB)\n",
            "Trainable params: 3930 (15.35 KB)\n",
            "Non-trainable params: 0 (0.00 Byte)\n",
            "_________________________________________________________________\n"
          ]
        }
      ]
    },
    {
      "cell_type": "markdown",
      "source": [
        "# **Model Compile**"
      ],
      "metadata": {
        "id": "Zh4hxwxJ-afB"
      }
    },
    {
      "cell_type": "code",
      "source": [
        "model.compile(optimizer = 'SGD',\n",
        "              loss = 'sparse_categorical_crossentropy',\n",
        "              metrics = ['accuracy'])\n",
        "\n",
        "batch_size = 250\n",
        "epochs = 10\n",
        "\n",
        "# Train the model.\n",
        "history = model.fit(x_train, y_train,\n",
        "                    epochs=epochs,\n",
        "                    validation_split=0.2)\n"
      ],
      "metadata": {
        "colab": {
          "base_uri": "https://localhost:8080/"
        },
        "outputId": "68bfda11-6c03-4bc6-f307-e7f4d28cb52c",
        "id": "MmvHyvOb-afB"
      },
      "execution_count": null,
      "outputs": [
        {
          "output_type": "stream",
          "name": "stdout",
          "text": [
            "Epoch 1/10\n",
            "1500/1500 [==============================] - 13s 8ms/step - loss: 2.1390 - accuracy: 0.2743 - val_loss: 0.8398 - val_accuracy: 0.7287\n",
            "Epoch 2/10\n",
            "1500/1500 [==============================] - 13s 8ms/step - loss: 0.5315 - accuracy: 0.8372 - val_loss: 0.3194 - val_accuracy: 0.8999\n",
            "Epoch 3/10\n",
            "1500/1500 [==============================] - 11s 7ms/step - loss: 0.3135 - accuracy: 0.9046 - val_loss: 0.2438 - val_accuracy: 0.9253\n",
            "Epoch 4/10\n",
            "1500/1500 [==============================] - 12s 8ms/step - loss: 0.2663 - accuracy: 0.9203 - val_loss: 0.2396 - val_accuracy: 0.9248\n",
            "Epoch 5/10\n",
            "1500/1500 [==============================] - 13s 8ms/step - loss: 0.2397 - accuracy: 0.9273 - val_loss: 0.2359 - val_accuracy: 0.9254\n",
            "Epoch 6/10\n",
            "1500/1500 [==============================] - 13s 8ms/step - loss: 0.2292 - accuracy: 0.9311 - val_loss: 0.1893 - val_accuracy: 0.9459\n",
            "Epoch 7/10\n",
            "1500/1500 [==============================] - 12s 8ms/step - loss: 0.2121 - accuracy: 0.9365 - val_loss: 0.1835 - val_accuracy: 0.9457\n",
            "Epoch 8/10\n",
            "1500/1500 [==============================] - 12s 8ms/step - loss: 0.2031 - accuracy: 0.9382 - val_loss: 0.1819 - val_accuracy: 0.9443\n",
            "Epoch 9/10\n",
            "1500/1500 [==============================] - 12s 8ms/step - loss: 0.2009 - accuracy: 0.9396 - val_loss: 0.1776 - val_accuracy: 0.9453\n",
            "Epoch 10/10\n",
            "1500/1500 [==============================] - 12s 8ms/step - loss: 0.1946 - accuracy: 0.9417 - val_loss: 0.1893 - val_accuracy: 0.9402\n"
          ]
        }
      ]
    },
    {
      "cell_type": "markdown",
      "source": [
        "# **Model Evaluation**"
      ],
      "metadata": {
        "id": "OWambBRI-afC"
      }
    },
    {
      "cell_type": "code",
      "source": [
        "loss_ , acc = model.evaluate(x_test, y_test, verbose=0)\n",
        "print('Test loss:', loss_)\n",
        "print('Test accuracy:', acc)"
      ],
      "metadata": {
        "colab": {
          "base_uri": "https://localhost:8080/"
        },
        "outputId": "7483d7d7-4063-4e0e-a8af-d4a1a0346c04",
        "id": "w_AyYN8e-afD"
      },
      "execution_count": null,
      "outputs": [
        {
          "output_type": "stream",
          "name": "stdout",
          "text": [
            "Test loss: 0.17720241844654083\n",
            "Test accuracy: 0.9412999749183655\n"
          ]
        }
      ]
    },
    {
      "cell_type": "markdown",
      "source": [
        "# **Model Prediction**"
      ],
      "metadata": {
        "id": "FimIOLTU-afE"
      }
    },
    {
      "cell_type": "code",
      "source": [
        "prediction = model.predict(x_test)\n",
        "classes_x=np.argmax(prediction,axis=1)#این دستور خروجی پیش بینی شده را که به صورت یک آرایه هست را به یک عدد تبدیل می کند\n",
        "print('Test prediction:', classes_x)"
      ],
      "metadata": {
        "colab": {
          "base_uri": "https://localhost:8080/"
        },
        "outputId": "0060df20-17dc-4ab0-fd96-23c7325b5fe7",
        "id": "4Vne31A7-afF"
      },
      "execution_count": null,
      "outputs": [
        {
          "output_type": "stream",
          "name": "stdout",
          "text": [
            "313/313 [==============================] - 1s 3ms/step\n",
            "Test prediction: [7 2 1 ... 4 5 6]\n"
          ]
        }
      ]
    },
    {
      "cell_type": "code",
      "source": [
        "(_, _), (x_test_image, y_test_label) = mnist.load_data()\n",
        "\n",
        "\n",
        "b=0\n",
        "f,axs = plt.subplots(1,10, figsize=(15, 15))\n",
        "\n",
        "for t in range (len(y_test)):\n",
        "  if b>=10:\n",
        "    break\n",
        "  if (classes_x[t] !=  y_test_label[t]):\n",
        "    axs[b].imshow(x_test_image[t], cmap='gray')\n",
        "    axs[b].set_title(f'true label:{y_test_label[t]} \\n' f'pred label:{classes_x[t]}')\n",
        "    axs[b].axis('off')\n",
        "\n",
        "    b+=1\n"
      ],
      "metadata": {
        "colab": {
          "base_uri": "https://localhost:8080/",
          "height": 178
        },
        "outputId": "2f0ea3ac-5415-4fdc-85cd-f34f5a04453d",
        "id": "qWS19FUu-afG"
      },
      "execution_count": null,
      "outputs": [
        {
          "output_type": "display_data",
          "data": {
            "text/plain": [
              "<Figure size 1500x1500 with 10 Axes>"
            ],
            "image/png": "[encoded data removed]"
          },
          "metadata": {}
        }
      ]
    },
    {
      "cell_type": "code",
      "source": [
        "b=0\n",
        "f,axs = plt.subplots(1,10, figsize=(15, 15))\n",
        "\n",
        "for t in range (len(y_test_label)):\n",
        "  if b>=10:\n",
        "    break\n",
        "  if (classes_x[t] ==  y_test_label[t]):\n",
        "    axs[b].imshow(x_test_image[t], cmap='gray')\n",
        "    axs[b].set_title(f'true label:{y_test_label[t]} \\n' f'pred label:{classes_x[t]}')\n",
        "    axs[b].axis('off')\n",
        "\n",
        "    b+=1\n"
      ],
      "metadata": {
        "colab": {
          "base_uri": "https://localhost:8080/",
          "height": 178
        },
        "outputId": "29a8faff-b04a-471d-8a83-fe72a7a7d01c",
        "id": "Q0IHnMgG-afH"
      },
      "execution_count": null,
      "outputs": [
        {
          "output_type": "display_data",
          "data": {
            "text/plain": [
              "<Figure size 1500x1500 with 10 Axes>"
            ],
            "image/png": "[encoded data removed]"
          },
          "metadata": {}
        }
      ]
    }
  ]
}