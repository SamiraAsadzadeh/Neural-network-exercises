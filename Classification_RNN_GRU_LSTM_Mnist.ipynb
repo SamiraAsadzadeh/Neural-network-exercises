{
  "nbformat": 4,
  "nbformat_minor": 0,
  "metadata": {
    "colab": {
      "provenance": [],
      "gpuType": "T4",
      "authorship_tag": "ABX9TyMltVX6Vm9EdGRph0a9OC49",
      "include_colab_link": true
    },
    "kernelspec": {
      "name": "python3",
      "display_name": "Python 3"
    },
    "language_info": {
      "name": "python"
    },
    "accelerator": "GPU"
  },
  "cells": [
    {
      "cell_type": "markdown",
      "metadata": {
        "id": "view-in-github",
        "colab_type": "text"
      },
      "source": [
        "<a href=\"https://colab.research.google.com/github/SamiraAsadzadeh/Neural-network-exercises/blob/main/Classification_RNN_GRU_LSTM_Mnist.ipynb\" target=\"_parent\"><img src=\"https://colab.research.google.com/assets/colab-badge.svg\" alt=\"Open In Colab\"/></a>"
      ]
    },
    {
      "cell_type": "markdown",
      "metadata": {
        "id": "ua74kLINigno"
      },
      "source": [
        " **By: Samira Asadzadeh  40116341054541**\n",
        "\n",
        "*   **Advisor:  Dr. Mr.Asadi**\n",
        "\n",
        "*  **ISLAMIC AZAD UNIVERSITY SHIRAZ BRANCH Faculty of engineering**\n",
        "\n"
      ]
    },
    {
      "cell_type": "code",
      "execution_count": 1,
      "metadata": {
        "id": "tF6dtGO6ikSD"
      },
      "outputs": [],
      "source": [
        "from tensorflow import keras\n",
        "from keras.datasets import mnist\n",
        "from tensorflow.keras import layers\n",
        "from tensorflow.keras.layers import Conv2D, MaxPooling2D, Dense, Flatten\n",
        "from IPython.display import Image\n",
        "from google.colab.patches import cv2_imshow\n",
        "from sklearn import metrics\n",
        "import numpy as np\n",
        "import pandas as pd\n",
        "import matplotlib.pyplot as plt\n",
        "import cv2"
      ]
    },
    {
      "cell_type": "code",
      "source": [
        "def show_images(images: list) -> None:\n",
        "    n: int = len(images)\n",
        "    f = plt.figure()\n",
        "    for i in range(n):\n",
        "        f.add_subplot(1, n, i + 1)\n",
        "        plt.imshow(images[i], cmap='gray')\n",
        "    plt.show(block=True)\n",
        "\n",
        "def show_image(image) -> None:\n",
        "    plt.imshow(image, cmap='gray')\n",
        "    plt.show(block=True)\n",
        "\n"
      ],
      "metadata": {
        "id": "63K9mzORnlT1"
      },
      "execution_count": 2,
      "outputs": []
    },
    {
      "cell_type": "markdown",
      "source": [
        "# DataSet"
      ],
      "metadata": {
        "id": "1l2Ijc4TTDQD"
      }
    },
    {
      "cell_type": "code",
      "metadata": {
        "id": "oD_pkZkG8yEa",
        "outputId": "f29cf4d7-354c-4adc-b3a2-eef4052188db",
        "colab": {
          "base_uri": "https://localhost:8080/",
          "height": 176
        }
      },
      "source": [
        "(x_train, y_train), (x_test, y_test) = mnist.load_data()\n",
        "#x_train.shape-->(60000, 28, 28)\n",
        "# print out first 10 images in our training data\n",
        "imgplot = show_images(x_train[0:10])\n",
        "\n",
        "# check the size of our dataset\n",
        "print(\"number of training images:\",x_train.shape[0])\n",
        "print(\"number of test images:\",y_test.shape[0])"
      ],
      "execution_count": 3,
      "outputs": [
        {
          "output_type": "stream",
          "name": "stdout",
          "text": [
            "Downloading data from https://storage.googleapis.com/tensorflow/tf-keras-datasets/mnist.npz\n",
            "11490434/11490434 [==============================] - 0s 0us/step\n"
          ]
        },
        {
          "output_type": "display_data",
          "data": {
            "text/plain": [
              "<Figure size 640x480 with 10 Axes>"
            ],
            "image/png": "[encoded data removed]"
          },
          "metadata": {}
        },
        {
          "output_type": "stream",
          "name": "stdout",
          "text": [
            "number of training images: 60000\n",
            "number of test images: 10000\n"
          ]
        }
      ]
    },
    {
      "cell_type": "code",
      "metadata": {
        "id": "1l_nAYSJ8yEg"
      },
      "source": [
        "# normalize training, testing dataset.\n",
        "x_train, x_test = x_train/255.0, x_test/255.0\n"
      ],
      "execution_count": 4,
      "outputs": []
    },
    {
      "cell_type": "markdown",
      "source": [
        "# **Model RNN**\n"
      ],
      "metadata": {
        "id": "foiGRjB2-aek"
      }
    },
    {
      "cell_type": "code",
      "source": [
        "model = keras.Sequential()\n",
        "model.add(layers.SimpleRNN(64, input_shape=(None, 28)))\n",
        "model.add(layers.Dense(10))\n",
        "print(model.summary())"
      ],
      "metadata": {
        "colab": {
          "base_uri": "https://localhost:8080/"
        },
        "id": "dvFzUibaDcvI",
        "outputId": "5a150a43-d4d4-44ef-d2fc-07937b12c49e"
      },
      "execution_count": 17,
      "outputs": [
        {
          "output_type": "stream",
          "name": "stdout",
          "text": [
            "Model: \"sequential_3\"\n",
            "_________________________________________________________________\n",
            " Layer (type)                Output Shape              Param #   \n",
            "=================================================================\n",
            " simple_rnn_3 (SimpleRNN)    (None, 64)                5952      \n",
            "                                                                 \n",
            " dense_3 (Dense)             (None, 10)                650       \n",
            "                                                                 \n",
            "=================================================================\n",
            "Total params: 6602 (25.79 KB)\n",
            "Trainable params: 6602 (25.79 KB)\n",
            "Non-trainable params: 0 (0.00 Byte)\n",
            "_________________________________________________________________\n",
            "None\n"
          ]
        }
      ]
    },
    {
      "cell_type": "markdown",
      "source": [
        "# **Model Compile**"
      ],
      "metadata": {
        "id": "Zh4hxwxJ-afB"
      }
    },
    {
      "cell_type": "code",
      "source": [
        "model.compile(\n",
        "    loss=keras.losses.SparseCategoricalCrossentropy(from_logits=True),\n",
        "    optimizer=\"sgd\",\n",
        "    metrics=[\"accuracy\"],\n",
        ")"
      ],
      "metadata": {
        "id": "g_klFIYqDojk"
      },
      "execution_count": 14,
      "outputs": []
    },
    {
      "cell_type": "markdown",
      "source": [
        "# **Model Train**"
      ],
      "metadata": {
        "id": "DD7yPRE-AM1g"
      }
    },
    {
      "cell_type": "code",
      "source": [
        "model.fit(\n",
        "    x_train, y_train, validation_data=(x_test, y_test), batch_size=64, epochs=10\n",
        ")"
      ],
      "metadata": {
        "colab": {
          "base_uri": "https://localhost:8080/"
        },
        "id": "1TKyhNYmf62h",
        "outputId": "485e006d-2fb7-40c3-96c6-99c35158c351"
      },
      "execution_count": 15,
      "outputs": [
        {
          "output_type": "stream",
          "name": "stdout",
          "text": [
            "Epoch 1/10\n",
            "938/938 [==============================] - 10s 10ms/step - loss: 1.0917 - accuracy: 0.6452 - val_loss: 0.8009 - val_accuracy: 0.7512\n",
            "Epoch 2/10\n",
            "938/938 [==============================] - 8s 8ms/step - loss: 0.5391 - accuracy: 0.8407 - val_loss: 0.4008 - val_accuracy: 0.8855\n",
            "Epoch 3/10\n",
            "938/938 [==============================] - 9s 10ms/step - loss: 0.3719 - accuracy: 0.8959 - val_loss: 0.2999 - val_accuracy: 0.9159\n",
            "Epoch 4/10\n",
            "938/938 [==============================] - 9s 9ms/step - loss: 0.2978 - accuracy: 0.9155 - val_loss: 0.3124 - val_accuracy: 0.9114\n",
            "Epoch 5/10\n",
            "938/938 [==============================] - 8s 8ms/step - loss: 0.2524 - accuracy: 0.9285 - val_loss: 0.2672 - val_accuracy: 0.9211\n",
            "Epoch 6/10\n",
            "938/938 [==============================] - 9s 10ms/step - loss: 0.2218 - accuracy: 0.9370 - val_loss: 0.3036 - val_accuracy: 0.8997\n",
            "Epoch 7/10\n",
            "938/938 [==============================] - 9s 10ms/step - loss: 0.2009 - accuracy: 0.9427 - val_loss: 0.1963 - val_accuracy: 0.9424\n",
            "Epoch 8/10\n",
            "938/938 [==============================] - 8s 8ms/step - loss: 0.1847 - accuracy: 0.9470 - val_loss: 0.1769 - val_accuracy: 0.9487\n",
            "Epoch 9/10\n",
            "938/938 [==============================] - 11s 12ms/step - loss: 0.1697 - accuracy: 0.9519 - val_loss: 0.1699 - val_accuracy: 0.9512\n",
            "Epoch 10/10\n",
            "938/938 [==============================] - 8s 9ms/step - loss: 0.1613 - accuracy: 0.9542 - val_loss: 0.1654 - val_accuracy: 0.9528\n"
          ]
        },
        {
          "output_type": "execute_result",
          "data": {
            "text/plain": [
              "<keras.src.callbacks.History at 0x7fb40f640310>"
            ]
          },
          "metadata": {},
          "execution_count": 15
        }
      ]
    },
    {
      "cell_type": "markdown",
      "source": [
        "# **Model Evaluation**"
      ],
      "metadata": {
        "id": "OWambBRI-afC"
      }
    },
    {
      "cell_type": "code",
      "source": [
        "loss_ , acc = model.evaluate(x_test, y_test, verbose=0)\n",
        "print('Test loss:', loss_)\n",
        "print('Test accuracy:', acc)"
      ],
      "metadata": {
        "colab": {
          "base_uri": "https://localhost:8080/"
        },
        "outputId": "bc85fd3d-e588-4473-82f7-5520040e38a0",
        "id": "w_AyYN8e-afD"
      },
      "execution_count": 16,
      "outputs": [
        {
          "output_type": "stream",
          "name": "stdout",
          "text": [
            "Test loss: 0.16535352170467377\n",
            "Test accuracy: 0.9527999758720398\n"
          ]
        }
      ]
    },
    {
      "cell_type": "markdown",
      "source": [
        "# **Model Prediction**"
      ],
      "metadata": {
        "id": "FimIOLTU-afE"
      }
    },
    {
      "cell_type": "code",
      "source": [
        "prediction = model.predict(x_test)\n",
        "classes_x=np.argmax(prediction,axis=1)#این دستور خروجی پیش بینی شده را که به صورت یک آرایه هست را به یک عدد تبدیل می کند\n",
        "print('Test prediction:', classes_x)"
      ],
      "metadata": {
        "colab": {
          "base_uri": "https://localhost:8080/"
        },
        "outputId": "690b55cf-687d-4244-ad4a-eae242013467",
        "id": "4Vne31A7-afF"
      },
      "execution_count": 15,
      "outputs": [
        {
          "output_type": "stream",
          "name": "stdout",
          "text": [
            "313/313 [==============================] - 2s 5ms/step\n",
            "Test prediction: [7 2 1 ... 4 5 6]\n"
          ]
        }
      ]
    },
    {
      "cell_type": "code",
      "source": [
        "(_, _), (x_test_image, y_test_label) = mnist.load_data()\n",
        "\n",
        "\n",
        "b=0\n",
        "f,axs = plt.subplots(1,10, figsize=(15, 15))\n",
        "\n",
        "for t in range (len(y_test)):\n",
        "  if b>=10:\n",
        "    break\n",
        "  if (classes_x[t] !=  y_test_label[t]):\n",
        "    axs[b].imshow(x_test_image[t], cmap='gray')\n",
        "    axs[b].set_title(f'true label:{y_test_label[t]} \\n' f'pred label:{classes_x[t]}')\n",
        "    axs[b].axis('off')\n",
        "\n",
        "    b+=1\n"
      ],
      "metadata": {
        "colab": {
          "base_uri": "https://localhost:8080/",
          "height": 178
        },
        "outputId": "dc0da0ed-e336-480b-910b-1f04fdd0684a",
        "id": "qWS19FUu-afG"
      },
      "execution_count": 16,
      "outputs": [
        {
          "output_type": "display_data",
          "data": {
            "text/plain": [
              "<Figure size 1500x1500 with 10 Axes>"
            ],
            "image/png": "[encoded data removed]"
          },
          "metadata": {}
        }
      ]
    },
    {
      "cell_type": "code",
      "source": [
        "b=0\n",
        "f,axs = plt.subplots(1,10, figsize=(15, 15))\n",
        "\n",
        "for t in range (len(y_test_label)):\n",
        "  if b>=10:\n",
        "    break\n",
        "  if (classes_x[t] ==  y_test_label[t]):\n",
        "    axs[b].imshow(x_test_image[t], cmap='gray')\n",
        "    axs[b].set_title(f'true label:{y_test_label[t]} \\n' f'pred label:{classes_x[t]}')\n",
        "    axs[b].axis('off')\n",
        "\n",
        "    b+=1\n"
      ],
      "metadata": {
        "colab": {
          "base_uri": "https://localhost:8080/",
          "height": 178
        },
        "outputId": "3f9cd0c2-382e-429d-b150-a5bb5850d6b4",
        "id": "Q0IHnMgG-afH"
      },
      "execution_count": 17,
      "outputs": [
        {
          "output_type": "display_data",
          "data": {
            "text/plain": [
              "<Figure size 1500x1500 with 10 Axes>"
            ],
            "image/png": "[encoded data removed]"
          },
          "metadata": {}
        }
      ]
    },
    {
      "cell_type": "markdown",
      "source": [
        "# **Model LSTM**\n"
      ],
      "metadata": {
        "id": "Mee8uFxXBgDy"
      }
    },
    {
      "cell_type": "code",
      "source": [
        "model = keras.Sequential()\n",
        "model.add(layers.LSTM(64, input_shape=(None, 28)))\n",
        "model.add(layers.Dense(10))\n",
        "print(model.summary())"
      ],
      "metadata": {
        "colab": {
          "base_uri": "https://localhost:8080/"
        },
        "id": "yRhZi0doFSJe",
        "outputId": "09d6d686-8bd5-4591-f1db-5fd5f32d03a5"
      },
      "execution_count": 18,
      "outputs": [
        {
          "output_type": "stream",
          "name": "stdout",
          "text": [
            "Model: \"sequential_4\"\n",
            "_________________________________________________________________\n",
            " Layer (type)                Output Shape              Param #   \n",
            "=================================================================\n",
            " lstm (LSTM)                 (None, 64)                23808     \n",
            "                                                                 \n",
            " dense_4 (Dense)             (None, 10)                650       \n",
            "                                                                 \n",
            "=================================================================\n",
            "Total params: 24458 (95.54 KB)\n",
            "Trainable params: 24458 (95.54 KB)\n",
            "Non-trainable params: 0 (0.00 Byte)\n",
            "_________________________________________________________________\n",
            "None\n"
          ]
        }
      ]
    },
    {
      "cell_type": "markdown",
      "source": [
        "# **Model Compile**"
      ],
      "metadata": {
        "id": "Uo4bRHLeBgD4"
      }
    },
    {
      "cell_type": "code",
      "source": [
        "model.compile(\n",
        "    loss=keras.losses.SparseCategoricalCrossentropy(from_logits=True),\n",
        "    optimizer=\"sgd\",\n",
        "    metrics=[\"accuracy\"],\n",
        ")\n"
      ],
      "metadata": {
        "id": "SLqY1tl1BgD5"
      },
      "execution_count": 19,
      "outputs": []
    },
    {
      "cell_type": "markdown",
      "source": [
        "# **Model Train**"
      ],
      "metadata": {
        "id": "NgrteR-iBgD6"
      }
    },
    {
      "cell_type": "code",
      "source": [
        "model.fit(\n",
        "    x_train, y_train, validation_data=(x_test, y_test), batch_size=64, epochs=10\n",
        ")"
      ],
      "metadata": {
        "colab": {
          "base_uri": "https://localhost:8080/"
        },
        "outputId": "d00063e7-7f74-42b0-b88e-5d478dfc6d9a",
        "id": "0kBol0A3BgD8"
      },
      "execution_count": 20,
      "outputs": [
        {
          "output_type": "stream",
          "name": "stdout",
          "text": [
            "Epoch 1/10\n",
            "938/938 [==============================] - 29s 29ms/step - loss: 2.1560 - accuracy: 0.2540 - val_loss: 1.9398 - val_accuracy: 0.3325\n",
            "Epoch 2/10\n",
            "938/938 [==============================] - 21s 22ms/step - loss: 1.6644 - accuracy: 0.4529 - val_loss: 1.3540 - val_accuracy: 0.5574\n",
            "Epoch 3/10\n",
            "938/938 [==============================] - 20s 21ms/step - loss: 1.0611 - accuracy: 0.6593 - val_loss: 0.8346 - val_accuracy: 0.7400\n",
            "Epoch 4/10\n",
            "938/938 [==============================] - 21s 23ms/step - loss: 0.6898 - accuracy: 0.7916 - val_loss: 0.6116 - val_accuracy: 0.8121\n",
            "Epoch 5/10\n",
            "938/938 [==============================] - 23s 24ms/step - loss: 0.4868 - accuracy: 0.8562 - val_loss: 0.4934 - val_accuracy: 0.8524\n",
            "Epoch 6/10\n",
            "938/938 [==============================] - 21s 22ms/step - loss: 0.3730 - accuracy: 0.8911 - val_loss: 0.3801 - val_accuracy: 0.8898\n",
            "Epoch 7/10\n",
            "938/938 [==============================] - 20s 21ms/step - loss: 0.3085 - accuracy: 0.9102 - val_loss: 0.2725 - val_accuracy: 0.9197\n",
            "Epoch 8/10\n",
            "938/938 [==============================] - 21s 22ms/step - loss: 0.2640 - accuracy: 0.9238 - val_loss: 0.2982 - val_accuracy: 0.9104\n",
            "Epoch 9/10\n",
            "938/938 [==============================] - 20s 21ms/step - loss: 0.2321 - accuracy: 0.9333 - val_loss: 0.2280 - val_accuracy: 0.9341\n",
            "Epoch 10/10\n",
            "938/938 [==============================] - 21s 22ms/step - loss: 0.2067 - accuracy: 0.9407 - val_loss: 0.2112 - val_accuracy: 0.9386\n"
          ]
        },
        {
          "output_type": "execute_result",
          "data": {
            "text/plain": [
              "<keras.src.callbacks.History at 0x7fb3e0b17220>"
            ]
          },
          "metadata": {},
          "execution_count": 20
        }
      ]
    },
    {
      "cell_type": "markdown",
      "source": [
        "# **Model Evaluation**"
      ],
      "metadata": {
        "id": "xhmawbo-BgD9"
      }
    },
    {
      "cell_type": "code",
      "source": [
        "loss_ , acc = model.evaluate(x_test, y_test, verbose=0)\n",
        "print('Test loss:', loss_)\n",
        "print('Test accuracy:', acc)"
      ],
      "metadata": {
        "colab": {
          "base_uri": "https://localhost:8080/"
        },
        "outputId": "a13c3e7a-c30b-4b27-e6c3-a4d5723f0e85",
        "id": "868miD9OBgD_"
      },
      "execution_count": 25,
      "outputs": [
        {
          "output_type": "stream",
          "name": "stdout",
          "text": [
            "Test loss: 0.21122565865516663\n",
            "Test accuracy: 0.9386000037193298\n"
          ]
        }
      ]
    },
    {
      "cell_type": "markdown",
      "source": [
        "# **Model Prediction**"
      ],
      "metadata": {
        "id": "weDkdFP-BgEA"
      }
    },
    {
      "cell_type": "code",
      "source": [
        "prediction = model.predict(x_test)\n",
        "classes_x=np.argmax(prediction,axis=1)#این دستور خروجی پیش بینی شده را که به صورت یک آرایه هست را به یک عدد تبدیل می کند\n",
        "print('Test prediction:', classes_x)"
      ],
      "metadata": {
        "colab": {
          "base_uri": "https://localhost:8080/"
        },
        "outputId": "3c486877-6af2-4010-a256-bf4c3b601038",
        "id": "6wfHJPPgBgEC"
      },
      "execution_count": 26,
      "outputs": [
        {
          "output_type": "stream",
          "name": "stdout",
          "text": [
            "313/313 [==============================] - 3s 9ms/step\n",
            "Test prediction: [7 2 1 ... 4 5 6]\n"
          ]
        }
      ]
    },
    {
      "cell_type": "code",
      "source": [
        "(_, _), (x_test_image, y_test_label) = mnist.load_data()\n",
        "\n",
        "\n",
        "b=0\n",
        "f,axs = plt.subplots(1,10, figsize=(15, 15))\n",
        "\n",
        "for t in range (len(y_test)):\n",
        "  if b>=10:\n",
        "    break\n",
        "  if (classes_x[t] !=  y_test_label[t]):\n",
        "    axs[b].imshow(x_test_image[t], cmap='gray')\n",
        "    axs[b].set_title(f'true label:{y_test_label[t]} \\n' f'pred label:{classes_x[t]}')\n",
        "    axs[b].axis('off')\n",
        "\n",
        "    b+=1\n"
      ],
      "metadata": {
        "colab": {
          "base_uri": "https://localhost:8080/",
          "height": 178
        },
        "outputId": "31e70632-6fd1-4c8e-d539-2de75521a0b1",
        "id": "fqHbpwuNBgED"
      },
      "execution_count": 27,
      "outputs": [
        {
          "output_type": "display_data",
          "data": {
            "text/plain": [
              "<Figure size 1500x1500 with 10 Axes>"
            ],
            "image/png": "[encoded data removed]"
          },
          "metadata": {}
        }
      ]
    },
    {
      "cell_type": "code",
      "source": [
        "b=0\n",
        "f,axs = plt.subplots(1,10, figsize=(15, 15))\n",
        "\n",
        "for t in range (len(y_test_label)):\n",
        "  if b>=10:\n",
        "    break\n",
        "  if (classes_x[t] ==  y_test_label[t]):\n",
        "    axs[b].imshow(x_test_image[t], cmap='gray')\n",
        "    axs[b].set_title(f'true label:{y_test_label[t]} \\n' f'pred label:{classes_x[t]}')\n",
        "    axs[b].axis('off')\n",
        "\n",
        "    b+=1\n"
      ],
      "metadata": {
        "colab": {
          "base_uri": "https://localhost:8080/",
          "height": 178
        },
        "outputId": "a454f253-6b89-41cc-a65b-208d3c84d84b",
        "id": "lKGVSpu6BgEF"
      },
      "execution_count": 28,
      "outputs": [
        {
          "output_type": "display_data",
          "data": {
            "text/plain": [
              "<Figure size 1500x1500 with 10 Axes>"
            ],
            "image/png": "[encoded data removed]"
          },
          "metadata": {}
        }
      ]
    },
    {
      "cell_type": "markdown",
      "source": [
        "# **Model GRU**\n"
      ],
      "metadata": {
        "id": "rKPREa9FBd-n"
      }
    },
    {
      "cell_type": "code",
      "source": [
        "model = keras.Sequential()\n",
        "model.add(layers.GRU(64, input_shape=(None, 28)))\n",
        "model.add(layers.Dense(10))\n",
        "print(model.summary())"
      ],
      "metadata": {
        "colab": {
          "base_uri": "https://localhost:8080/"
        },
        "id": "D3msqUp1Fb0m",
        "outputId": "444bd0c3-1d57-45c0-fbca-45f4e604a612"
      },
      "execution_count": 29,
      "outputs": [
        {
          "output_type": "stream",
          "name": "stdout",
          "text": [
            "Model: \"sequential_5\"\n",
            "_________________________________________________________________\n",
            " Layer (type)                Output Shape              Param #   \n",
            "=================================================================\n",
            " gru (GRU)                   (None, 64)                18048     \n",
            "                                                                 \n",
            " dense_5 (Dense)             (None, 10)                650       \n",
            "                                                                 \n",
            "=================================================================\n",
            "Total params: 18698 (73.04 KB)\n",
            "Trainable params: 18698 (73.04 KB)\n",
            "Non-trainable params: 0 (0.00 Byte)\n",
            "_________________________________________________________________\n",
            "None\n"
          ]
        }
      ]
    },
    {
      "cell_type": "markdown",
      "source": [
        "# **Model Compile**"
      ],
      "metadata": {
        "id": "M3Uy96lcBd_R"
      }
    },
    {
      "cell_type": "code",
      "source": [
        "model.compile(\n",
        "    loss=keras.losses.SparseCategoricalCrossentropy(from_logits=True),\n",
        "    optimizer=\"sgd\",\n",
        "    metrics=[\"accuracy\"],\n",
        ")\n"
      ],
      "metadata": {
        "id": "nqMGWvLhBd_S"
      },
      "execution_count": 30,
      "outputs": []
    },
    {
      "cell_type": "markdown",
      "source": [
        "# **Model Train**"
      ],
      "metadata": {
        "id": "2MVOG80yBd_T"
      }
    },
    {
      "cell_type": "code",
      "source": [
        "model.fit(\n",
        "    x_train, y_train, validation_data=(x_test, y_test), batch_size=64, epochs=10\n",
        ")"
      ],
      "metadata": {
        "colab": {
          "base_uri": "https://localhost:8080/"
        },
        "outputId": "49176984-efc1-4787-b8a3-1c36b99225fa",
        "id": "XiHe3bFhBd_U"
      },
      "execution_count": 31,
      "outputs": [
        {
          "output_type": "stream",
          "name": "stdout",
          "text": [
            "Epoch 1/10\n",
            "938/938 [==============================] - 21s 20ms/step - loss: 2.2799 - accuracy: 0.1574 - val_loss: 2.2573 - val_accuracy: 0.2050\n",
            "Epoch 2/10\n",
            "938/938 [==============================] - 20s 21ms/step - loss: 2.2065 - accuracy: 0.2552 - val_loss: 2.0984 - val_accuracy: 0.2978\n",
            "Epoch 3/10\n",
            "938/938 [==============================] - 19s 20ms/step - loss: 1.9086 - accuracy: 0.3323 - val_loss: 1.7418 - val_accuracy: 0.4044\n",
            "Epoch 4/10\n",
            "938/938 [==============================] - 20s 21ms/step - loss: 1.5153 - accuracy: 0.4821 - val_loss: 1.2629 - val_accuracy: 0.5719\n",
            "Epoch 5/10\n",
            "938/938 [==============================] - 20s 21ms/step - loss: 1.0923 - accuracy: 0.6188 - val_loss: 0.9606 - val_accuracy: 0.6655\n",
            "Epoch 6/10\n",
            "938/938 [==============================] - 20s 21ms/step - loss: 0.8926 - accuracy: 0.6932 - val_loss: 0.8177 - val_accuracy: 0.7303\n",
            "Epoch 7/10\n",
            "938/938 [==============================] - 20s 22ms/step - loss: 0.7531 - accuracy: 0.7551 - val_loss: 0.6619 - val_accuracy: 0.7921\n",
            "Epoch 8/10\n",
            "938/938 [==============================] - 19s 20ms/step - loss: 0.5985 - accuracy: 0.8141 - val_loss: 0.5313 - val_accuracy: 0.8342\n",
            "Epoch 9/10\n",
            "938/938 [==============================] - 20s 22ms/step - loss: 0.4749 - accuracy: 0.8572 - val_loss: 0.4085 - val_accuracy: 0.8791\n",
            "Epoch 10/10\n",
            "938/938 [==============================] - 19s 20ms/step - loss: 0.3849 - accuracy: 0.8878 - val_loss: 0.3359 - val_accuracy: 0.9004\n"
          ]
        },
        {
          "output_type": "execute_result",
          "data": {
            "text/plain": [
              "<keras.src.callbacks.History at 0x7fb3e3520280>"
            ]
          },
          "metadata": {},
          "execution_count": 31
        }
      ]
    },
    {
      "cell_type": "markdown",
      "source": [
        "# **Model Evaluation**"
      ],
      "metadata": {
        "id": "mL0oLTdnBd_V"
      }
    },
    {
      "cell_type": "code",
      "source": [
        "loss_ , acc = model.evaluate(x_test, y_test, verbose=0)\n",
        "print('Test loss:', loss_)\n",
        "print('Test accuracy:', acc)"
      ],
      "metadata": {
        "colab": {
          "base_uri": "https://localhost:8080/"
        },
        "outputId": "9eb8cf54-569d-40b1-da48-7e5e0ea6957a",
        "id": "UCV5U3ZkBd_V"
      },
      "execution_count": 32,
      "outputs": [
        {
          "output_type": "stream",
          "name": "stdout",
          "text": [
            "Test loss: 0.33585524559020996\n",
            "Test accuracy: 0.9003999829292297\n"
          ]
        }
      ]
    },
    {
      "cell_type": "markdown",
      "source": [
        "# **Model Prediction**"
      ],
      "metadata": {
        "id": "wOwnsB8BBd_W"
      }
    },
    {
      "cell_type": "code",
      "source": [
        "prediction = model.predict(x_test)\n",
        "classes_x=np.argmax(prediction,axis=1)#این دستور خروجی پیش بینی شده را که به صورت یک آرایه هست را به یک عدد تبدیل می کند\n",
        "print('Test prediction:', classes_x)"
      ],
      "metadata": {
        "colab": {
          "base_uri": "https://localhost:8080/"
        },
        "outputId": "f80fcae5-610b-4bff-a7ca-67b55786eee7",
        "id": "ojISvlP3Bd_X"
      },
      "execution_count": 33,
      "outputs": [
        {
          "output_type": "stream",
          "name": "stdout",
          "text": [
            "313/313 [==============================] - 2s 5ms/step\n",
            "Test prediction: [7 2 1 ... 4 5 6]\n"
          ]
        }
      ]
    },
    {
      "cell_type": "code",
      "source": [
        "(_, _), (x_test_image, y_test_label) = mnist.load_data()\n",
        "\n",
        "\n",
        "b=0\n",
        "f,axs = plt.subplots(1,10, figsize=(15, 15))\n",
        "\n",
        "for t in range (len(y_test)):\n",
        "  if b>=10:\n",
        "    break\n",
        "  if (classes_x[t] !=  y_test_label[t]):\n",
        "    axs[b].imshow(x_test_image[t], cmap='gray')\n",
        "    axs[b].set_title(f'true label:{y_test_label[t]} \\n' f'pred label:{classes_x[t]}')\n",
        "    axs[b].axis('off')\n",
        "\n",
        "    b+=1\n"
      ],
      "metadata": {
        "colab": {
          "base_uri": "https://localhost:8080/",
          "height": 178
        },
        "outputId": "36bee27a-0840-42d3-bc00-fd35b49f8fc0",
        "id": "E6-5rQm8Bd_Y"
      },
      "execution_count": 34,
      "outputs": [
        {
          "output_type": "display_data",
          "data": {
            "text/plain": [
              "<Figure size 1500x1500 with 10 Axes>"
            ],
            "image/png": "[encoded data removed]"
          },
          "metadata": {}
        }
      ]
    },
    {
      "cell_type": "code",
      "source": [
        "b=0\n",
        "f,axs = plt.subplots(1,10, figsize=(15, 15))\n",
        "\n",
        "for t in range (len(y_test_label)):\n",
        "  if b>=10:\n",
        "    break\n",
        "  if (classes_x[t] ==  y_test_label[t]):\n",
        "    axs[b].imshow(x_test_image[t], cmap='gray')\n",
        "    axs[b].set_title(f'true label:{y_test_label[t]} \\n' f'pred label:{classes_x[t]}')\n",
        "    axs[b].axis('off')\n",
        "\n",
        "    b+=1\n"
      ],
      "metadata": {
        "colab": {
          "base_uri": "https://localhost:8080/",
          "height": 178
        },
        "outputId": "e0bbfefd-4809-433d-cec5-5e41fd15181e",
        "id": "WOHiBal6Bd_Y"
      },
      "execution_count": 35,
      "outputs": [
        {
          "output_type": "display_data",
          "data": {
            "text/plain": [
              "<Figure size 1500x1500 with 10 Axes>"
            ],
            "image/png": "[encoded data removed]"
          },
          "metadata": {}
        }
      ]
    }
  ]
}