{
  "nbformat": 4,
  "nbformat_minor": 0,
  "metadata": {
    "colab": {
      "provenance": [],
      "gpuType": "T4",
      "authorship_tag": "ABX9TyMFKu74p8R7ogWrpdlDtLHd",
      "include_colab_link": true
    },
    "kernelspec": {
      "name": "python3",
      "display_name": "Python 3"
    },
    "language_info": {
      "name": "python"
    },
    "accelerator": "GPU"
  },
  "cells": [
    {
      "cell_type": "markdown",
      "metadata": {
        "id": "view-in-github",
        "colab_type": "text"
      },
      "source": [
        "<a href=\"https://colab.research.google.com/github/SamiraAsadzadeh/Neural-network-exercises/blob/main/Classification_RNN_GRU_LSTM_Mnist.ipynb\" target=\"_parent\"><img src=\"https://colab.research.google.com/assets/colab-badge.svg\" alt=\"Open In Colab\"/></a>"
      ]
    },
    {
      "cell_type": "markdown",
      "metadata": {
        "id": "ua74kLINigno"
      },
      "source": [
        " **By: Samira Asadzadeh  40116341054541**\n",
        "\n",
        "*   **Advisor:  Dr. Mr.Asadi**\n",
        "\n",
        "*  **ISLAMIC AZAD UNIVERSITY SHIRAZ BRANCH Faculty of engineering**\n",
        "\n"
      ]
    },
    {
      "cell_type": "code",
      "execution_count": 37,
      "metadata": {
        "id": "tF6dtGO6ikSD"
      },
      "outputs": [],
      "source": [
        "from tensorflow import keras\n",
        "from keras.datasets import mnist\n",
        "from tensorflow.keras import layers\n",
        "from tensorflow.keras.layers import Conv2D, MaxPooling2D, Dense, Flatten\n",
        "from IPython.display import Image\n",
        "from google.colab.patches import cv2_imshow\n",
        "from sklearn import metrics\n",
        "import numpy as np\n",
        "import pandas as pd\n",
        "import matplotlib.pyplot as plt\n",
        "import cv2"
      ]
    },
    {
      "cell_type": "code",
      "source": [
        "def show_images(images: list) -> None:\n",
        "    n: int = len(images)\n",
        "    f = plt.figure()\n",
        "    for i in range(n):\n",
        "        f.add_subplot(1, n, i + 1)\n",
        "        plt.imshow(images[i], cmap='gray')\n",
        "    plt.show(block=True)\n",
        "\n",
        "def show_image(image) -> None:\n",
        "    plt.imshow(image, cmap='gray')\n",
        "    plt.show(block=True)\n",
        "\n"
      ],
      "metadata": {
        "id": "63K9mzORnlT1"
      },
      "execution_count": 2,
      "outputs": []
    },
    {
      "cell_type": "markdown",
      "source": [
        "# DataSet"
      ],
      "metadata": {
        "id": "1l2Ijc4TTDQD"
      }
    },
    {
      "cell_type": "code",
      "metadata": {
        "id": "oD_pkZkG8yEa",
        "outputId": "85fcb075-52a9-49e5-8dc5-41788e1090ca",
        "colab": {
          "base_uri": "https://localhost:8080/",
          "height": 176
        }
      },
      "source": [
        "(x_train, y_train), (x_test, y_test) = mnist.load_data()\n",
        "#x_train.shape-->(60000, 28, 28)\n",
        "# print out first 10 images in our training data\n",
        "imgplot = show_images(x_train[0:10])\n",
        "\n",
        "# check the size of our dataset\n",
        "print(\"number of training images:\",x_train.shape[0])\n",
        "print(\"number of test images:\",y_test.shape[0])"
      ],
      "execution_count": 3,
      "outputs": [
        {
          "output_type": "stream",
          "name": "stdout",
          "text": [
            "Downloading data from https://storage.googleapis.com/tensorflow/tf-keras-datasets/mnist.npz\n",
            "11490434/11490434 [==============================] - 0s 0us/step\n"
          ]
        },
        {
          "output_type": "display_data",
          "data": {
            "text/plain": [
              "<Figure size 640x480 with 10 Axes>"
            ],
            "image/png": "[encoded data removed]"
          },
          "metadata": {}
        },
        {
          "output_type": "stream",
          "name": "stdout",
          "text": [
            "number of training images: 60000\n",
            "number of test images: 10000\n"
          ]
        }
      ]
    },
    {
      "cell_type": "code",
      "metadata": {
        "id": "1l_nAYSJ8yEg"
      },
      "source": [
        "# update all the training, testing dataset.\n",
        "x_train, x_test = x_train/255.0, x_test/255.0\n",
        "#x_validate, y_validate = x_test[:-10], y_test[:-10]\n",
        "#x_test, y_test = x_test[-10:], y_test[-10:]"
      ],
      "execution_count": 4,
      "outputs": []
    },
    {
      "cell_type": "markdown",
      "source": [
        "# **Model RNN**\n"
      ],
      "metadata": {
        "id": "foiGRjB2-aek"
      }
    },
    {
      "cell_type": "code",
      "source": [
        "model = keras.Sequential()\n",
        "model.add(layers.SimpleRNN(units=64, input_shape=(None, 28)))\n",
        "model.add(layers.Dense(units=10, activation='sigmoid'))\n",
        "print(model.summary())"
      ],
      "metadata": {
        "colab": {
          "base_uri": "https://localhost:8080/"
        },
        "id": "V5u-tglC1Ydh",
        "outputId": "4bac4b6a-5837-481d-a029-239be0a404ed"
      },
      "execution_count": 11,
      "outputs": [
        {
          "output_type": "stream",
          "name": "stdout",
          "text": [
            "Model: \"sequential_5\"\n",
            "_________________________________________________________________\n",
            " Layer (type)                Output Shape              Param #   \n",
            "=================================================================\n",
            " simple_rnn_4 (SimpleRNN)    (None, 64)                5952      \n",
            "                                                                 \n",
            " dense_4 (Dense)             (None, 10)                650       \n",
            "                                                                 \n",
            "=================================================================\n",
            "Total params: 6602 (25.79 KB)\n",
            "Trainable params: 6602 (25.79 KB)\n",
            "Non-trainable params: 0 (0.00 Byte)\n",
            "_________________________________________________________________\n",
            "None\n"
          ]
        }
      ]
    },
    {
      "cell_type": "markdown",
      "source": [
        "# **Model Compile**"
      ],
      "metadata": {
        "id": "Zh4hxwxJ-afB"
      }
    },
    {
      "cell_type": "code",
      "source": [
        "model.compile(\n",
        "    loss=keras.losses.SparseCategoricalCrossentropy(from_logits=True),\n",
        "    optimizer=\"sgd\",\n",
        "    metrics=[\"accuracy\"],\n",
        ")\n"
      ],
      "metadata": {
        "id": "ZpZaii_XfnGH"
      },
      "execution_count": 12,
      "outputs": []
    },
    {
      "cell_type": "markdown",
      "source": [
        "# **Model Train**"
      ],
      "metadata": {
        "id": "DD7yPRE-AM1g"
      }
    },
    {
      "cell_type": "code",
      "source": [
        "model.fit(\n",
        "    x_train, y_train, validation_data=(x_test, y_test), batch_size=64, epochs=10\n",
        ")"
      ],
      "metadata": {
        "colab": {
          "base_uri": "https://localhost:8080/"
        },
        "id": "1TKyhNYmf62h",
        "outputId": "d2ba35e8-0b45-43cc-e3a5-c890994eeaae"
      },
      "execution_count": 13,
      "outputs": [
        {
          "output_type": "stream",
          "name": "stdout",
          "text": [
            "Epoch 1/10\n"
          ]
        },
        {
          "output_type": "stream",
          "name": "stderr",
          "text": [
            "/usr/local/lib/python3.10/dist-packages/keras/src/backend.py:5727: UserWarning: \"`sparse_categorical_crossentropy` received `from_logits=True`, but the `output` argument was produced by a Softmax activation and thus does not represent logits. Was this intended?\n",
            "  output, from_logits = _get_logits(\n"
          ]
        },
        {
          "output_type": "stream",
          "name": "stdout",
          "text": [
            "938/938 [==============================] - 20s 20ms/step - loss: 1.1207 - accuracy: 0.6497 - val_loss: 0.6368 - val_accuracy: 0.8205\n",
            "Epoch 2/10\n",
            "938/938 [==============================] - 17s 19ms/step - loss: 0.4813 - accuracy: 0.8602 - val_loss: 0.3970 - val_accuracy: 0.8839\n",
            "Epoch 3/10\n",
            "938/938 [==============================] - 18s 19ms/step - loss: 0.3398 - accuracy: 0.9017 - val_loss: 0.2993 - val_accuracy: 0.9137\n",
            "Epoch 4/10\n",
            "938/938 [==============================] - 17s 18ms/step - loss: 0.2791 - accuracy: 0.9200 - val_loss: 0.2321 - val_accuracy: 0.9330\n",
            "Epoch 5/10\n",
            "938/938 [==============================] - 18s 19ms/step - loss: 0.2448 - accuracy: 0.9300 - val_loss: 0.4012 - val_accuracy: 0.8854\n",
            "Epoch 6/10\n",
            "938/938 [==============================] - 17s 19ms/step - loss: 0.2219 - accuracy: 0.9368 - val_loss: 0.2662 - val_accuracy: 0.9242\n",
            "Epoch 7/10\n",
            "938/938 [==============================] - 19s 20ms/step - loss: 0.2019 - accuracy: 0.9426 - val_loss: 0.2140 - val_accuracy: 0.9388\n",
            "Epoch 8/10\n",
            "938/938 [==============================] - 18s 19ms/step - loss: 0.1874 - accuracy: 0.9468 - val_loss: 0.2115 - val_accuracy: 0.9401\n",
            "Epoch 9/10\n",
            "938/938 [==============================] - 18s 19ms/step - loss: 0.1771 - accuracy: 0.9505 - val_loss: 0.1706 - val_accuracy: 0.9537\n",
            "Epoch 10/10\n",
            "938/938 [==============================] - 18s 19ms/step - loss: 0.1652 - accuracy: 0.9528 - val_loss: 0.1514 - val_accuracy: 0.9592\n"
          ]
        },
        {
          "output_type": "execute_result",
          "data": {
            "text/plain": [
              "<keras.src.callbacks.History at 0x7e83bb9b3490>"
            ]
          },
          "metadata": {},
          "execution_count": 13
        }
      ]
    },
    {
      "cell_type": "markdown",
      "source": [
        "# **Model Evaluation**"
      ],
      "metadata": {
        "id": "OWambBRI-afC"
      }
    },
    {
      "cell_type": "code",
      "source": [
        "loss_ , acc = model.evaluate(x_test, y_test, verbose=0)\n",
        "print('Test loss:', loss_)\n",
        "print('Test accuracy:', acc)"
      ],
      "metadata": {
        "colab": {
          "base_uri": "https://localhost:8080/"
        },
        "outputId": "c8635616-e11d-4b16-f03f-875d60401929",
        "id": "w_AyYN8e-afD"
      },
      "execution_count": 14,
      "outputs": [
        {
          "output_type": "stream",
          "name": "stdout",
          "text": [
            "Test loss: 0.15139935910701752\n",
            "Test accuracy: 0.9592000246047974\n"
          ]
        }
      ]
    },
    {
      "cell_type": "markdown",
      "source": [
        "# **Model Prediction**"
      ],
      "metadata": {
        "id": "FimIOLTU-afE"
      }
    },
    {
      "cell_type": "code",
      "source": [
        "prediction = model.predict(x_test)\n",
        "classes_x=np.argmax(prediction,axis=1)#این دستور خروجی پیش بینی شده را که به صورت یک آرایه هست را به یک عدد تبدیل می کند\n",
        "print('Test prediction:', classes_x)"
      ],
      "metadata": {
        "colab": {
          "base_uri": "https://localhost:8080/"
        },
        "outputId": "690b55cf-687d-4244-ad4a-eae242013467",
        "id": "4Vne31A7-afF"
      },
      "execution_count": 15,
      "outputs": [
        {
          "output_type": "stream",
          "name": "stdout",
          "text": [
            "313/313 [==============================] - 2s 5ms/step\n",
            "Test prediction: [7 2 1 ... 4 5 6]\n"
          ]
        }
      ]
    },
    {
      "cell_type": "code",
      "source": [
        "(_, _), (x_test_image, y_test_label) = mnist.load_data()\n",
        "\n",
        "\n",
        "b=0\n",
        "f,axs = plt.subplots(1,10, figsize=(15, 15))\n",
        "\n",
        "for t in range (len(y_test)):\n",
        "  if b>=10:\n",
        "    break\n",
        "  if (classes_x[t] !=  y_test_label[t]):\n",
        "    axs[b].imshow(x_test_image[t], cmap='gray')\n",
        "    axs[b].set_title(f'true label:{y_test_label[t]} \\n' f'pred label:{classes_x[t]}')\n",
        "    axs[b].axis('off')\n",
        "\n",
        "    b+=1\n"
      ],
      "metadata": {
        "colab": {
          "base_uri": "https://localhost:8080/",
          "height": 178
        },
        "outputId": "dc0da0ed-e336-480b-910b-1f04fdd0684a",
        "id": "qWS19FUu-afG"
      },
      "execution_count": 16,
      "outputs": [
        {
          "output_type": "display_data",
          "data": {
            "text/plain": [
              "<Figure size 1500x1500 with 10 Axes>"
            ],
            "image/png": "[encoded data removed]"
          },
          "metadata": {}
        }
      ]
    },
    {
      "cell_type": "code",
      "source": [
        "b=0\n",
        "f,axs = plt.subplots(1,10, figsize=(15, 15))\n",
        "\n",
        "for t in range (len(y_test_label)):\n",
        "  if b>=10:\n",
        "    break\n",
        "  if (classes_x[t] ==  y_test_label[t]):\n",
        "    axs[b].imshow(x_test_image[t], cmap='gray')\n",
        "    axs[b].set_title(f'true label:{y_test_label[t]} \\n' f'pred label:{classes_x[t]}')\n",
        "    axs[b].axis('off')\n",
        "\n",
        "    b+=1\n"
      ],
      "metadata": {
        "colab": {
          "base_uri": "https://localhost:8080/",
          "height": 178
        },
        "outputId": "3f9cd0c2-382e-429d-b150-a5bb5850d6b4",
        "id": "Q0IHnMgG-afH"
      },
      "execution_count": 17,
      "outputs": [
        {
          "output_type": "display_data",
          "data": {
            "text/plain": [
              "<Figure size 1500x1500 with 10 Axes>"
            ],
            "image/png": "[encoded data removed]"
          },
          "metadata": {}
        }
      ]
    },
    {
      "cell_type": "markdown",
      "source": [
        "# **Model LSTM**\n"
      ],
      "metadata": {
        "id": "Mee8uFxXBgDy"
      }
    },
    {
      "cell_type": "code",
      "source": [
        "model = keras.Sequential()\n",
        "model.add(layers.LSTM(units=64, input_shape=(None, 28)))\n",
        "model.add(layers.Dense(units=10, activation='sigmoid'))\n",
        "print(model.summary())"
      ],
      "metadata": {
        "colab": {
          "base_uri": "https://localhost:8080/"
        },
        "id": "lOIjk-TH3RnM",
        "outputId": "5d92dcb4-8ea3-4a3c-fac8-adb1c4ad9092"
      },
      "execution_count": 19,
      "outputs": [
        {
          "output_type": "stream",
          "name": "stdout",
          "text": [
            "Model: \"sequential_6\"\n",
            "_________________________________________________________________\n",
            " Layer (type)                Output Shape              Param #   \n",
            "=================================================================\n",
            " lstm (LSTM)                 (None, 64)                23808     \n",
            "                                                                 \n",
            " dense_5 (Dense)             (None, 10)                650       \n",
            "                                                                 \n",
            "=================================================================\n",
            "Total params: 24458 (95.54 KB)\n",
            "Trainable params: 24458 (95.54 KB)\n",
            "Non-trainable params: 0 (0.00 Byte)\n",
            "_________________________________________________________________\n",
            "None\n"
          ]
        }
      ]
    },
    {
      "cell_type": "markdown",
      "source": [
        "# **Model Compile**"
      ],
      "metadata": {
        "id": "Uo4bRHLeBgD4"
      }
    },
    {
      "cell_type": "code",
      "source": [
        "model.compile(\n",
        "    loss=keras.losses.SparseCategoricalCrossentropy(from_logits=True),\n",
        "    optimizer=\"sgd\",\n",
        "    metrics=[\"accuracy\"],\n",
        ")\n"
      ],
      "metadata": {
        "id": "SLqY1tl1BgD5"
      },
      "execution_count": 20,
      "outputs": []
    },
    {
      "cell_type": "markdown",
      "source": [
        "# **Model Train**"
      ],
      "metadata": {
        "id": "NgrteR-iBgD6"
      }
    },
    {
      "cell_type": "code",
      "source": [
        "model.fit(\n",
        "    x_train, y_train, validation_data=(x_test, y_test), batch_size=64, epochs=10\n",
        ")"
      ],
      "metadata": {
        "colab": {
          "base_uri": "https://localhost:8080/"
        },
        "outputId": "66ecce3b-7765-4f33-c910-17dc8c166a7b",
        "id": "0kBol0A3BgD8"
      },
      "execution_count": 21,
      "outputs": [
        {
          "output_type": "stream",
          "name": "stdout",
          "text": [
            "Epoch 1/10\n",
            "938/938 [==============================] - 8s 6ms/step - loss: 2.1736 - accuracy: 0.2766 - val_loss: 1.9408 - val_accuracy: 0.3397\n",
            "Epoch 2/10\n",
            "938/938 [==============================] - 5s 6ms/step - loss: 1.6955 - accuracy: 0.4487 - val_loss: 1.4526 - val_accuracy: 0.5622\n",
            "Epoch 3/10\n",
            "938/938 [==============================] - 5s 6ms/step - loss: 1.1501 - accuracy: 0.6430 - val_loss: 0.8622 - val_accuracy: 0.7321\n",
            "Epoch 4/10\n",
            "938/938 [==============================] - 6s 6ms/step - loss: 0.6866 - accuracy: 0.7875 - val_loss: 0.7928 - val_accuracy: 0.7353\n",
            "Epoch 5/10\n",
            "938/938 [==============================] - 8s 9ms/step - loss: 0.4406 - accuracy: 0.8713 - val_loss: 0.3404 - val_accuracy: 0.9047\n",
            "Epoch 6/10\n",
            "938/938 [==============================] - 7s 7ms/step - loss: 0.3193 - accuracy: 0.9081 - val_loss: 0.3306 - val_accuracy: 0.8973\n",
            "Epoch 7/10\n",
            "938/938 [==============================] - 5s 6ms/step - loss: 0.2555 - accuracy: 0.9256 - val_loss: 0.2098 - val_accuracy: 0.9405\n",
            "Epoch 8/10\n",
            "938/938 [==============================] - 5s 6ms/step - loss: 0.2184 - accuracy: 0.9371 - val_loss: 0.1892 - val_accuracy: 0.9472\n",
            "Epoch 9/10\n",
            "938/938 [==============================] - 6s 6ms/step - loss: 0.1903 - accuracy: 0.9456 - val_loss: 0.3231 - val_accuracy: 0.8986\n",
            "Epoch 10/10\n",
            "938/938 [==============================] - 5s 5ms/step - loss: 0.1712 - accuracy: 0.9504 - val_loss: 0.1460 - val_accuracy: 0.9585\n"
          ]
        },
        {
          "output_type": "execute_result",
          "data": {
            "text/plain": [
              "<keras.src.callbacks.History at 0x7e832c684be0>"
            ]
          },
          "metadata": {},
          "execution_count": 21
        }
      ]
    },
    {
      "cell_type": "markdown",
      "source": [
        "# **Model Evaluation**"
      ],
      "metadata": {
        "id": "xhmawbo-BgD9"
      }
    },
    {
      "cell_type": "code",
      "source": [
        "loss_ , acc = model.evaluate(x_test, y_test, verbose=0)\n",
        "print('Test loss:', loss_)\n",
        "print('Test accuracy:', acc)"
      ],
      "metadata": {
        "colab": {
          "base_uri": "https://localhost:8080/"
        },
        "outputId": "9ac2a9d6-b7b9-4043-8e9e-4516a5e02555",
        "id": "868miD9OBgD_"
      },
      "execution_count": 22,
      "outputs": [
        {
          "output_type": "stream",
          "name": "stdout",
          "text": [
            "Test loss: 0.14595353603363037\n",
            "Test accuracy: 0.9585000276565552\n"
          ]
        }
      ]
    },
    {
      "cell_type": "markdown",
      "source": [
        "# **Model Prediction**"
      ],
      "metadata": {
        "id": "weDkdFP-BgEA"
      }
    },
    {
      "cell_type": "code",
      "source": [
        "prediction = model.predict(x_test)\n",
        "classes_x=np.argmax(prediction,axis=1)#این دستور خروجی پیش بینی شده را که به صورت یک آرایه هست را به یک عدد تبدیل می کند\n",
        "print('Test prediction:', classes_x)"
      ],
      "metadata": {
        "colab": {
          "base_uri": "https://localhost:8080/"
        },
        "outputId": "01e19612-13c9-4533-831c-d99765ab7f2e",
        "id": "6wfHJPPgBgEC"
      },
      "execution_count": 23,
      "outputs": [
        {
          "output_type": "stream",
          "name": "stdout",
          "text": [
            "313/313 [==============================] - 1s 2ms/step\n",
            "Test prediction: [7 2 1 ... 4 5 6]\n"
          ]
        }
      ]
    },
    {
      "cell_type": "code",
      "source": [
        "(_, _), (x_test_image, y_test_label) = mnist.load_data()\n",
        "\n",
        "\n",
        "b=0\n",
        "f,axs = plt.subplots(1,10, figsize=(15, 15))\n",
        "\n",
        "for t in range (len(y_test)):\n",
        "  if b>=10:\n",
        "    break\n",
        "  if (classes_x[t] !=  y_test_label[t]):\n",
        "    axs[b].imshow(x_test_image[t], cmap='gray')\n",
        "    axs[b].set_title(f'true label:{y_test_label[t]} \\n' f'pred label:{classes_x[t]}')\n",
        "    axs[b].axis('off')\n",
        "\n",
        "    b+=1\n"
      ],
      "metadata": {
        "colab": {
          "base_uri": "https://localhost:8080/",
          "height": 178
        },
        "outputId": "cb54ea6d-cd09-4786-dbf9-802b297d1598",
        "id": "fqHbpwuNBgED"
      },
      "execution_count": 24,
      "outputs": [
        {
          "output_type": "display_data",
          "data": {
            "text/plain": [
              "<Figure size 1500x1500 with 10 Axes>"
            ],
            "image/png": "[encoded data removed]"
          },
          "metadata": {}
        }
      ]
    },
    {
      "cell_type": "code",
      "source": [
        "b=0\n",
        "f,axs = plt.subplots(1,10, figsize=(15, 15))\n",
        "\n",
        "for t in range (len(y_test_label)):\n",
        "  if b>=10:\n",
        "    break\n",
        "  if (classes_x[t] ==  y_test_label[t]):\n",
        "    axs[b].imshow(x_test_image[t], cmap='gray')\n",
        "    axs[b].set_title(f'true label:{y_test_label[t]} \\n' f'pred label:{classes_x[t]}')\n",
        "    axs[b].axis('off')\n",
        "\n",
        "    b+=1\n"
      ],
      "metadata": {
        "colab": {
          "base_uri": "https://localhost:8080/",
          "height": 178
        },
        "outputId": "f60bc7c5-fdde-4e9b-f86e-4e5b27903513",
        "id": "lKGVSpu6BgEF"
      },
      "execution_count": 25,
      "outputs": [
        {
          "output_type": "display_data",
          "data": {
            "text/plain": [
              "<Figure size 1500x1500 with 10 Axes>"
            ],
            "image/png": "[encoded data removed]"
          },
          "metadata": {}
        }
      ]
    },
    {
      "cell_type": "markdown",
      "source": [
        "# **Model GRU**\n"
      ],
      "metadata": {
        "id": "rKPREa9FBd-n"
      }
    },
    {
      "cell_type": "code",
      "source": [
        "model = keras.Sequential()\n",
        "model.add(layers.GRU(units=64, input_shape=(None, 28)))\n",
        "model.add(layers.Dense(units=10, activation='sigmoid'))\n",
        "print(model.summary())"
      ],
      "metadata": {
        "colab": {
          "base_uri": "https://localhost:8080/"
        },
        "id": "tWg9_eut3d4W",
        "outputId": "f734fa4a-41a1-4f3e-e60f-0f408ca7caa0"
      },
      "execution_count": 28,
      "outputs": [
        {
          "output_type": "stream",
          "name": "stdout",
          "text": [
            "Model: \"sequential_7\"\n",
            "_________________________________________________________________\n",
            " Layer (type)                Output Shape              Param #   \n",
            "=================================================================\n",
            " gru (GRU)                   (None, 64)                18048     \n",
            "                                                                 \n",
            " dense_6 (Dense)             (None, 10)                650       \n",
            "                                                                 \n",
            "=================================================================\n",
            "Total params: 18698 (73.04 KB)\n",
            "Trainable params: 18698 (73.04 KB)\n",
            "Non-trainable params: 0 (0.00 Byte)\n",
            "_________________________________________________________________\n",
            "None\n"
          ]
        }
      ]
    },
    {
      "cell_type": "markdown",
      "source": [
        "# **Model Compile**"
      ],
      "metadata": {
        "id": "M3Uy96lcBd_R"
      }
    },
    {
      "cell_type": "code",
      "source": [
        "model.compile(\n",
        "    loss=keras.losses.SparseCategoricalCrossentropy(from_logits=True),\n",
        "    optimizer=\"sgd\",\n",
        "    metrics=[\"accuracy\"],\n",
        ")\n"
      ],
      "metadata": {
        "id": "nqMGWvLhBd_S"
      },
      "execution_count": 29,
      "outputs": []
    },
    {
      "cell_type": "markdown",
      "source": [
        "# **Model Train**"
      ],
      "metadata": {
        "id": "2MVOG80yBd_T"
      }
    },
    {
      "cell_type": "code",
      "source": [
        "model.fit(\n",
        "    x_train, y_train, validation_data=(x_test, y_test), batch_size=64, epochs=10\n",
        ")"
      ],
      "metadata": {
        "colab": {
          "base_uri": "https://localhost:8080/"
        },
        "outputId": "e1eaf73d-dce9-4be4-f9cd-a30b49fe31fb",
        "id": "XiHe3bFhBd_U"
      },
      "execution_count": 30,
      "outputs": [
        {
          "output_type": "stream",
          "name": "stdout",
          "text": [
            "Epoch 1/10\n",
            "938/938 [==============================] - 6s 5ms/step - loss: 2.2796 - accuracy: 0.1781 - val_loss: 2.2554 - val_accuracy: 0.2271\n",
            "Epoch 2/10\n",
            "938/938 [==============================] - 5s 6ms/step - loss: 2.2111 - accuracy: 0.2583 - val_loss: 2.1484 - val_accuracy: 0.3046\n",
            "Epoch 3/10\n",
            "938/938 [==============================] - 4s 5ms/step - loss: 1.9797 - accuracy: 0.3733 - val_loss: 1.7064 - val_accuracy: 0.4271\n",
            "Epoch 4/10\n",
            "938/938 [==============================] - 4s 5ms/step - loss: 1.4177 - accuracy: 0.5085 - val_loss: 1.1777 - val_accuracy: 0.5692\n",
            "Epoch 5/10\n",
            "938/938 [==============================] - 5s 5ms/step - loss: 1.0364 - accuracy: 0.6249 - val_loss: 0.9241 - val_accuracy: 0.6743\n",
            "Epoch 6/10\n",
            "938/938 [==============================] - 5s 5ms/step - loss: 0.8500 - accuracy: 0.7030 - val_loss: 0.7556 - val_accuracy: 0.7431\n",
            "Epoch 7/10\n",
            "938/938 [==============================] - 5s 6ms/step - loss: 0.6877 - accuracy: 0.7710 - val_loss: 0.6074 - val_accuracy: 0.7961\n",
            "Epoch 8/10\n",
            "938/938 [==============================] - 5s 5ms/step - loss: 0.5565 - accuracy: 0.8249 - val_loss: 0.5282 - val_accuracy: 0.8316\n",
            "Epoch 9/10\n",
            "938/938 [==============================] - 5s 5ms/step - loss: 0.4549 - accuracy: 0.8611 - val_loss: 0.4523 - val_accuracy: 0.8566\n",
            "Epoch 10/10\n",
            "938/938 [==============================] - 5s 5ms/step - loss: 0.3793 - accuracy: 0.8870 - val_loss: 0.3291 - val_accuracy: 0.9026\n"
          ]
        },
        {
          "output_type": "execute_result",
          "data": {
            "text/plain": [
              "<keras.src.callbacks.History at 0x7e8325f79e70>"
            ]
          },
          "metadata": {},
          "execution_count": 30
        }
      ]
    },
    {
      "cell_type": "markdown",
      "source": [
        "# **Model Evaluation**"
      ],
      "metadata": {
        "id": "mL0oLTdnBd_V"
      }
    },
    {
      "cell_type": "code",
      "source": [
        "loss_ , acc = model.evaluate(x_test, y_test, verbose=0)\n",
        "print('Test loss:', loss_)\n",
        "print('Test accuracy:', acc)"
      ],
      "metadata": {
        "colab": {
          "base_uri": "https://localhost:8080/"
        },
        "outputId": "411cd744-38eb-4061-eb7a-0a62ef70e440",
        "id": "UCV5U3ZkBd_V"
      },
      "execution_count": 31,
      "outputs": [
        {
          "output_type": "stream",
          "name": "stdout",
          "text": [
            "Test loss: 0.3291376829147339\n",
            "Test accuracy: 0.9025999903678894\n"
          ]
        }
      ]
    },
    {
      "cell_type": "markdown",
      "source": [
        "# **Model Prediction**"
      ],
      "metadata": {
        "id": "wOwnsB8BBd_W"
      }
    },
    {
      "cell_type": "code",
      "source": [
        "prediction = model.predict(x_test)\n",
        "classes_x=np.argmax(prediction,axis=1)#این دستور خروجی پیش بینی شده را که به صورت یک آرایه هست را به یک عدد تبدیل می کند\n",
        "print('Test prediction:', classes_x)"
      ],
      "metadata": {
        "colab": {
          "base_uri": "https://localhost:8080/"
        },
        "outputId": "804af8a7-1c6d-4288-ac93-9751fa3aba03",
        "id": "ojISvlP3Bd_X"
      },
      "execution_count": 32,
      "outputs": [
        {
          "output_type": "stream",
          "name": "stdout",
          "text": [
            "313/313 [==============================] - 1s 2ms/step\n",
            "Test prediction: [7 2 1 ... 9 5 6]\n"
          ]
        }
      ]
    },
    {
      "cell_type": "code",
      "source": [
        "(_, _), (x_test_image, y_test_label) = mnist.load_data()\n",
        "\n",
        "\n",
        "b=0\n",
        "f,axs = plt.subplots(1,10, figsize=(15, 15))\n",
        "\n",
        "for t in range (len(y_test)):\n",
        "  if b>=10:\n",
        "    break\n",
        "  if (classes_x[t] !=  y_test_label[t]):\n",
        "    axs[b].imshow(x_test_image[t], cmap='gray')\n",
        "    axs[b].set_title(f'true label:{y_test_label[t]} \\n' f'pred label:{classes_x[t]}')\n",
        "    axs[b].axis('off')\n",
        "\n",
        "    b+=1\n"
      ],
      "metadata": {
        "colab": {
          "base_uri": "https://localhost:8080/",
          "height": 178
        },
        "outputId": "2d42ee8c-6efe-4c1a-f6db-0798cd303bff",
        "id": "E6-5rQm8Bd_Y"
      },
      "execution_count": 33,
      "outputs": [
        {
          "output_type": "display_data",
          "data": {
            "text/plain": [
              "<Figure size 1500x1500 with 10 Axes>"
            ],
            "image/png": "[encoded data removed]"
          },
          "metadata": {}
        }
      ]
    },
    {
      "cell_type": "code",
      "source": [
        "b=0\n",
        "f,axs = plt.subplots(1,10, figsize=(15, 15))\n",
        "\n",
        "for t in range (len(y_test_label)):\n",
        "  if b>=10:\n",
        "    break\n",
        "  if (classes_x[t] ==  y_test_label[t]):\n",
        "    axs[b].imshow(x_test_image[t], cmap='gray')\n",
        "    axs[b].set_title(f'true label:{y_test_label[t]} \\n' f'pred label:{classes_x[t]}')\n",
        "    axs[b].axis('off')\n",
        "\n",
        "    b+=1\n"
      ],
      "metadata": {
        "colab": {
          "base_uri": "https://localhost:8080/",
          "height": 178
        },
        "outputId": "7256c523-457d-4bd0-924c-1530180f03ae",
        "id": "WOHiBal6Bd_Y"
      },
      "execution_count": 34,
      "outputs": [
        {
          "output_type": "display_data",
          "data": {
            "text/plain": [
              "<Figure size 1500x1500 with 10 Axes>"
            ],
            "image/png": "[encoded data removed]"
          },
          "metadata": {}
        }
      ]
    }
  ]
}