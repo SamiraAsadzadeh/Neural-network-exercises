{
  "nbformat": 4,
  "nbformat_minor": 0,
  "metadata": {
    "colab": {
      "provenance": [],
      "authorship_tag": "ABX9TyNd5Z/Joij/vEoinzyLYgMt",
      "include_colab_link": true
    },
    "kernelspec": {
      "name": "python3",
      "display_name": "Python 3"
    },
    "language_info": {
      "name": "python"
    }
  },
  "cells": [
    {
      "cell_type": "markdown",
      "metadata": {
        "id": "view-in-github",
        "colab_type": "text"
      },
      "source": [
        "<a href=\"https://colab.research.google.com/github/SamiraAsadzadeh/Neural-network-exercises/blob/main/MFO.ipynb\" target=\"_parent\"><img src=\"https://colab.research.google.com/assets/colab-badge.svg\" alt=\"Open In Colab\"/></a>"
      ]
    },
    {
      "cell_type": "markdown",
      "metadata": {
        "id": "P-PYVINdJURP"
      },
      "source": [
        " **By: Samira Asadzadeh  40116341054541**\n",
        "\n",
        "*   **Advisor:  Dr. Mr.Asadi**\n",
        "\n",
        "*  **ISLAMIC AZAD UNIVERSITY SHIRAZ BRANCH Faculty of engineering**\n",
        "\n"
      ]
    },
    {
      "cell_type": "markdown",
      "source": [
        "# بهینه سازی شبکه عصبی با الگوریتم شمع و پروانه"
      ],
      "metadata": {
        "id": "r4uvIe8PUZbb"
      }
    },
    {
      "cell_type": "code",
      "source": [
        "import numpy as np\n",
        "\n",
        "def objective_function(X):\n",
        "\n",
        "   #Dataset\n",
        "      x = np.array ([[1,2,3]])\n",
        "      y = np.array ([[0.9,2.1,2.8]])\n",
        "    #وزن  و بایاس\n",
        "      w1 = X[0]\n",
        "      w2 = X[1]\n",
        "      w3 = X[2]\n",
        "      w4 = X[3]\n",
        "      w5 = X[4]\n",
        "      w6 = X[5]\n",
        "      b1 = X[6]\n",
        "      b2 = X[7]\n",
        "      b3 = X[8]\n",
        "      b4 = X[9]\n",
        "      Error1 = []\n",
        "      for sample in range(x.size):\n",
        "    # لایه پنهان\n",
        "        TF1 = lambda x:x\n",
        "        Z = []\n",
        "        w = [w1, w2, w3]\n",
        "        b = [b1, b2, b3]\n",
        "        for i , k in zip(w, b):\n",
        "          Z.append(TF1(i*x[0, sample]+k))\n",
        "    # لایه خروجی\n",
        "        TF2 = lambda x:x\n",
        "        sum1 = 0\n",
        "        W2= [w4, w5, w6]\n",
        "        for j in range(3):\n",
        "            sum1 += Z[j]*W2[j]\n",
        "        out = TF2(sum1+b4)\n",
        "        Error1.append(np.abs(out-y[0, sample]))\n",
        "        #print(np.sum(Error1))\n",
        "      return np.sum(Error1)\n",
        "\n",
        "#جالب ترین واقعیت در مورد پروانه ها روش های ویژه ناوبری آنها در شب است. آنها تکامل یافته اند تا در شب با استفاده از نور ماه پرواز کنند.\n",
        "#پروانه ها و شعله ها هر دو راه حل هستند\n",
        "#پروانه ها عوامل جستجوی واقعی هستند که در فضای جستجو حرکت می کنند ، در حالی که شعله های آتش بهترین موقعیت پروانه ای هستند که تاکنون بدست آمده است\n",
        "#به عبارت دیگر ، شعله ها را می توان پرچم هایی دانست که هنگام جستجوی فضای جستجو ، توسط پروانه ها فرو می روند.\n",
        "# بنابراین ، هر پروانه در اطراف یک پرچم (شعله) جستجو می کند و در صورت پیدا کردن راه حل بهتر ، آن را به روز می کند.\n",
        "# با استفاده از این مکانیسم ، یک پروانه هرگز بهترین راه حل خود را از دست نمی دهد.\n",
        "\n",
        "\n",
        "def initialize_population(dim, num_moths):\n",
        "    # جمعیت را با موقعیت های تصادفی اولیه مقداردهی کنید\n",
        "    #population = np.random.uniform(low=-10, high=10, size=(num_moths, dim))\n",
        "    population = np.random.rand(num_moths, dim)\n",
        "    return population\n",
        "\n",
        "def calculate_fitness(population):\n",
        "    # مقدار فیتنس برای هر پروانه را محاسبه کنید\n",
        "    fitness = np.zeros(len(population))\n",
        "    for i in range(len(population)):\n",
        "        fitness[i] = objective_function(population[i])\n",
        "    return fitness\n",
        "# آلفا یک ضریب است که برای محاسبه حرکت پروانه ها به سمت شعله استفاده می شود.\n",
        "# مقدار آلفا بین 0 و 1 است.\n",
        "# بتا نیز یک ضریب است که برای محاسبه حرکت تصادفی پروانه ها به سمت بهترین پروانه استفاده می شود.\n",
        "#مقدار بتا بین 0 و 1 است\n",
        "def move_moths(population, best_moth, flame, alpha, beta):\n",
        "    num_moths, dim = population.shape\n",
        "    new_population = np.zeros((num_moths, dim))\n",
        "\n",
        "    for i in range(num_moths):\n",
        "        # هر پروانه را به سمت بهترین پروانه و شعله حرکت دهید\n",
        "        distance_to_flame = np.linalg.norm(population[i] - flame) # محاسبه فاصله اقلیدوسی یا نرم دو از پروانه تا شعله\n",
        "        distance_to_best = np.linalg.norm(population[i] - best_moth) # محاسبه فاصله اقلیدوسی یا نرم دو از پروانه تا بهترین پروانه\n",
        "\n",
        "        new_population[i] = population[i] * (1 - np.exp(-alpha * distance_to_flame**2)) # مقدار منفی آلفا تاثیر میزان افزایش مقدار محاسبه شده را تنظیم می کند\n",
        "        new_population[i] += beta * (np.random.uniform(low=-1, high=1, size=dim) * distance_to_best)\n",
        "\n",
        "    return new_population\n",
        "\n",
        "def moth_flame_optimization(dim, num_moths, num_iterations, alpha, beta):\n",
        "    population = initialize_population(dim, num_moths)\n",
        "    best_moth = None\n",
        "    best_fitness = float('inf')\n",
        "\n",
        "    for i in range(num_iterations):\n",
        "        fitness = calculate_fitness(population)\n",
        "\n",
        "\n",
        "        if np.min(fitness) < best_fitness:\n",
        "            best_moth = population[np.argmin(fitness)] # ایندکس پاسخ با فیتنس کمتر را برمی گردتند که بهترین پروانه هست\n",
        "            best_fitness = np.min(fitness) # مقدار کمترین فیتنس را برمی گرداند\n",
        "\n",
        "\n",
        "        flame = best_moth\n",
        "\n",
        "        population = move_moths(population, best_moth, flame, alpha, beta)\n",
        "\n",
        "\n",
        "    return best_moth, best_fitness\n",
        "\n",
        "\n",
        "# نمونه استفاده\n",
        "dim = 10  # ابعاد مسئله\n",
        "num_moths = 50  # تعداد پروانه ها در جمعیت\n",
        "num_iterations = 100  # تعداد تکرارها\n",
        "alpha = 0.9  # ضریب برای فاصله تا شعله\n",
        "beta = 0.9  # ضریب برای حرکت تصادفی به سمت بهترین پروانه\n",
        "\n",
        "best_moth, best_fitness = moth_flame_optimization(dim, num_moths, num_iterations, alpha, beta)\n",
        "print(\"Best solution:\", best_moth)\n",
        "print(\"Best fitness:\", best_fitness)"
      ],
      "metadata": {
        "colab": {
          "base_uri": "https://localhost:8080/"
        },
        "id": "RNQQCy01i42J",
        "outputId": "bfa9cd04-c02f-42b5-e956-c0972ec907ac"
      },
      "execution_count": null,
      "outputs": [
        {
          "output_type": "stream",
          "name": "stdout",
          "text": [
            "Best solution: [ 0.93380124 -0.72202885  0.75223504  1.27284406  1.82395003  1.53826031\n",
            "  0.75206881 -0.98483409  0.87587783 -0.73269255]\n",
            "Best fitness: 0.42438630268511146\n"
          ]
        }
      ]
    }
  ]
}