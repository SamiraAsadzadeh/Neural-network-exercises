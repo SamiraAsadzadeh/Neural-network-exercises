{
  "nbformat": 4,
  "nbformat_minor": 0,
  "metadata": {
    "colab": {
      "provenance": [],
      "authorship_tag": "ABX9TyMTJx55PQ2a3xQ6B5IEWFFI",
      "include_colab_link": true
    },
    "kernelspec": {
      "name": "python3",
      "display_name": "Python 3"
    },
    "language_info": {
      "name": "python"
    }
  },
  "cells": [
    {
      "cell_type": "markdown",
      "metadata": {
        "id": "view-in-github",
        "colab_type": "text"
      },
      "source": [
        "<a href=\"https://colab.research.google.com/github/SamiraAsadzadeh/Neural-network-exercises/blob/main/MFO.ipynb\" target=\"_parent\"><img src=\"https://colab.research.google.com/assets/colab-badge.svg\" alt=\"Open In Colab\"/></a>"
      ]
    },
    {
      "cell_type": "markdown",
      "metadata": {
        "id": "P-PYVINdJURP"
      },
      "source": [
        " **By: Samira Asadzadeh  40116341054541**\n",
        "\n",
        "*   **Advisor:  Dr. Mr.Asadi**\n",
        "\n",
        "*  **ISLAMIC AZAD UNIVERSITY SHIRAZ BRANCH Faculty of engineering**\n",
        "\n"
      ]
    },
    {
      "cell_type": "markdown",
      "source": [
        "# بهینه سازی شبکه عصبی با الگوریتم شمع و پروانه"
      ],
      "metadata": {
        "id": "r4uvIe8PUZbb"
      }
    },
    {
      "cell_type": "code",
      "source": [
        "import numpy as np\n",
        "\n",
        "# تعریف تابع هدف\n",
        "def objective(X):\n",
        "      #Dataset\n",
        "      x = np.array ([[1,2,3]])\n",
        "      T = np.array ([[0.9,2.1,2.8]])\n",
        "    #وزن  و بایاس\n",
        "      w1 = X[0]\n",
        "      w2 = X[1]\n",
        "      w3 = X[2]\n",
        "      w4 = X[3]\n",
        "      w5 = X[4]\n",
        "      w6 = X[5]\n",
        "      b1 = X[6]\n",
        "      b2 = X[7]\n",
        "      b3 = X[8]\n",
        "      b4 = X[9]\n",
        "      Error1 = []\n",
        "      for sample in range(x.size):\n",
        "    # لایه پنهان\n",
        "        TF1 = lambda x:x\n",
        "        Z = []\n",
        "        w = [w1, w2, w3]\n",
        "        b = [b1, b2, b3]\n",
        "        for i , k in zip(w, b):\n",
        "          Z.append(TF1(i*x[0, sample]+k))\n",
        "    # لایه خروجی\n",
        "        TF2 = lambda x:x\n",
        "        sum1 = 0\n",
        "        W2= [w4, w5, w6]\n",
        "        for j in range(3):\n",
        "            sum1 += Z[j]*W2[j]\n",
        "        out = TF2(sum1+b4)\n",
        "        Error1.append(np.abs(out-T[0, sample]))\n",
        "        #print(np.sum(Error1))\n",
        "      return np.sum(Error1)\n",
        "\n",
        "\n",
        "# تابع مورچه‌لرزه\n",
        "def moth_flame_optimization(dim, n_pop, max_iter):\n",
        "    # مقداردهی اولیه به موقعیت مورچه‌لرزه‌ها\n",
        "    moths = np.random.rand(n_pop, dim)\n",
        "\n",
        "    # حلقه اصلی الگوریتم\n",
        "    for t in range(max_iter):\n",
        "        # محاسبه مقدار هدف برای هر مورچه‌لرزه\n",
        "        fitness = np.array([objective(m) for m in moths])\n",
        "\n",
        "        # محاسبه مقدار منفی برای تابع هدف\n",
        "        fitness = 1 / (1 + fitness)\n",
        "\n",
        "        # مرتب‌سازی مورچه‌لرزه‌ها بر اساس مقدار هدف\n",
        "        sorted_idx = np.argsort(fitness)\n",
        "        moths = moths[sorted_idx]\n",
        "\n",
        "        # محاسبه مقدار شعله برای هر مورچه‌لرزه\n",
        "        flame = np.exp(-t / max_iter)\n",
        "\n",
        "        # به‌روزرسانی موقعیت مورچه‌لرزه‌ها\n",
        "        new_moths = np.zeros_like(moths)\n",
        "        for i in range(n_pop):\n",
        "            # انتخاب دو مورچه‌لرزه تصادفی\n",
        "            idx = np.random.choice(range(n_pop), size=2, replace=False)\n",
        "            m1, m2 = moths[idx]\n",
        "\n",
        "            # محاسبه مقدار جدید برای مورچه‌لرزه جدید\n",
        "            new_moths[i] = m1 + np.random.uniform() * (m2 - m1) * flame\n",
        "\n",
        "        # جایگزینی مورچه‌لرزه‌های قدیمی با مورچه‌لرزه‌های جدید\n",
        "        moths = new_moths\n",
        "\n",
        "    # محاسبه مقدار هدف برای مورچه‌لرزه‌های نهایی\n",
        "    fitness = np.array([objective(m) for m in moths])\n",
        "\n",
        "    # یافتن بهترین مورچه‌لرزه و مقدار هدف\n",
        "    best_idx = np.argmin(fitness)\n",
        "    best_m = moths[best_idx]\n",
        "    best_f = fitness[best_idx]\n",
        "\n",
        "    return best_m, best_f\n",
        "\n",
        "# استفاده از الگوریتم Moth-Flame Optimization برای حل مسئله بهینه‌سازی\n",
        "dim = 10  # تعداد متغیرها\n",
        "n_pop = 50  # تعداد مورچه‌لرزه‌ها\n",
        "max_iter = 100  # تعداد تکرارها\n",
        "\n",
        "best_m, best_f = moth_flame_optimization(dim, n_pop, max_iter)\n",
        "\n",
        "# نمایش نتایج\n",
        "print(\"Best Solution:\", best_m)\n",
        "print(\"Best Objective:\", best_f)"
      ],
      "metadata": {
        "colab": {
          "base_uri": "https://localhost:8080/"
        },
        "id": "_1RYwEZjT5Wn",
        "outputId": "1ccf3881-d9b8-493c-f096-3ee1d4d3e1c4"
      },
      "execution_count": null,
      "outputs": [
        {
          "output_type": "stream",
          "name": "stdout",
          "text": [
            "Best Solution: [0.56469365 0.46754675 0.59668793 0.60640578 0.44653544 0.5132094\n",
            " 0.4510846  0.48821165 0.4937906  0.48738542]\n",
            "Best Objective: 3.041655802073489\n"
          ]
        }
      ]
    }
  ]
}