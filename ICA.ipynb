{
  "nbformat": 4,
  "nbformat_minor": 0,
  "metadata": {
    "colab": {
      "provenance": [],
      "authorship_tag": "ABX9TyMn0LyqCnahMCiZ4sVjZRi8",
      "include_colab_link": true
    },
    "kernelspec": {
      "name": "python3",
      "display_name": "Python 3"
    },
    "language_info": {
      "name": "python"
    }
  },
  "cells": [
    {
      "cell_type": "markdown",
      "metadata": {
        "id": "view-in-github",
        "colab_type": "text"
      },
      "source": [
        "<a href=\"https://colab.research.google.com/github/SamiraAsadzadeh/Neural-network-exercises/blob/main/ICA.ipynb\" target=\"_parent\"><img src=\"https://colab.research.google.com/assets/colab-badge.svg\" alt=\"Open In Colab\"/></a>"
      ]
    },
    {
      "cell_type": "markdown",
      "metadata": {
        "id": "P-PYVINdJURP"
      },
      "source": [
        " **By: Samira Asadzadeh  40116341054541**\n",
        "\n",
        "*   **Advisor:  Dr. Mr.Asadi**\n",
        "\n",
        "*  **ISLAMIC AZAD UNIVERSITY SHIRAZ BRANCH Faculty of engineering**\n",
        "\n"
      ]
    },
    {
      "cell_type": "markdown",
      "source": [
        "# بهینه سازی شبکه عصبی با الگوریتم رقابت استعماری"
      ],
      "metadata": {
        "id": "JgumCcVbVY6F"
      }
    },
    {
      "cell_type": "code",
      "source": [
        "import numpy as np\n",
        "\n",
        "def objective_function(X):\n",
        "\n",
        "      #Dataset\n",
        "        x = np.array ([[1,2,3]])\n",
        "        y = np.array ([[0.9,2.1,2.8]])\n",
        "      #وزن  و بایاس\n",
        "        w1 = X[0]\n",
        "        w2 = X[1]\n",
        "        w3 = X[2]\n",
        "        w4 = X[3]\n",
        "        w5 = X[4]\n",
        "        w6 = X[5]\n",
        "        b1 = X[6]\n",
        "        b2 = X[7]\n",
        "        b3 = X[8]\n",
        "        b4 = X[9]\n",
        "        Error1 = []\n",
        "        for sample in range(x.size):\n",
        "      # لایه پنهان\n",
        "          TF1 = lambda x:x\n",
        "          Z = []\n",
        "          w = [w1, w2, w3]\n",
        "          b = [b1, b2, b3]\n",
        "          for i , k in zip(w, b):\n",
        "            Z.append(TF1(i*x[0, sample]+k))\n",
        "      # لایه خروجی\n",
        "          TF2 = lambda x:x\n",
        "          sum1 = 0\n",
        "          W2= [w4, w5, w6]\n",
        "          for j in range(3):\n",
        "              sum1 += Z[j]*W2[j]\n",
        "          out = TF2(sum1+b4)\n",
        "          Error1.append(np.abs(out-y[0, sample]))\n",
        "          #print(np.sum(Error1))\n",
        "        return np.sum(Error1)\n",
        "\n",
        "def initialize_population(num_countries, num_dimensions, bounds):\n",
        "    # ایجاد جمعیت اولیه\n",
        "    populations = []\n",
        "    for _ in range(num_countries):\n",
        "        population = np.random.uniform(bounds[0], bounds[1], num_dimensions) # ایجاد اعداد تصادفی بین محدوده دلخواه\n",
        "        populations.append(population)\n",
        "\n",
        "    return populations\n",
        "\n",
        "def calculate_fitness(populations):\n",
        "    # محاسبه فیتنس برای هر جمعیت\n",
        "    fitness = []\n",
        "    for population in populations:\n",
        "        fitness.append(objective_function(population))\n",
        "\n",
        "    return np.array(fitness)\n",
        "\n",
        "def imperialist_competition_algorithm(num_countries, num_dimensions, bounds, max_iterations):\n",
        "    # مقداردهی اولیه\n",
        "    populations = initialize_population(num_countries, num_dimensions, bounds)\n",
        "    imperialists = populations[:num_countries//2] # پنج تای اول\n",
        "    colonies = populations[num_countries//2:] #پنج تای دوم\n",
        "    fitness = calculate_fitness(populations)\n",
        "    best_fitness = np.min(fitness)\n",
        "    best_solution = populations[np.argmin(fitness)] #جمعیت بر اساس ایندکس  کمترین مقدار فیتنس را بر میگرداند\n",
        "\n",
        "    # حلقه‌ی اصلی الگوریتم ICA\n",
        "    for _ in range(max_iterations):\n",
        "        # انتخاب استعمارگران\n",
        "        imperialists_fitness = calculate_fitness(imperialists)\n",
        "        imperialist_indices = np.argsort(imperialists_fitness)\n",
        "        imperialists = np.array(imperialists)[imperialist_indices] # کشورهای استعمارگر که به صورت صعودی مرتب شده اند را به صورت آرایه ذخیره میکند\n",
        "\n",
        "        # انتخاب مستعمره‌ها\n",
        "        colonies_fitness = calculate_fitness(colonies)\n",
        "        colonies_indices = np.argsort(colonies_fitness) # مرتب کردن صعودی\n",
        "        colonies = np.array(colonies)[colonies_indices]\n",
        "\n",
        "        # اتحاد استعمارگر و مستعمره\n",
        "        for i in range(len(colonies)):\n",
        "            if colonies_fitness[i] < imperialists_fitness[i]:\n",
        "\n",
        "                imperialists[i] = colonies[i]\n",
        "\n",
        "        # مهاجرت جمعیت\n",
        "\n",
        "        for i in range(len(colonies), len(imperialists)):\n",
        "            random_colony_index = np.random.randint(0, len(colonies))\n",
        "            imperialists[i] = colonies[random_colony_index]\n",
        "\n",
        "        # به‌روزرسانی جمعیت مستعمره\n",
        "        colonies = imperialists[len(imperialists)//2:]\n",
        "\n",
        "        # به‌روزرسانی بهترین مقدار و موقعیت\n",
        "        fitness = calculate_fitness(imperialists)\n",
        "        if np.min(fitness) < best_fitness:\n",
        "            best_fitness = np.min(fitness)\n",
        "            best_solution = imperialists[np.argmin(fitness)]\n",
        "\n",
        "    return best_solution, best_fitness\n",
        "\n",
        "# مثال استفاده از الگوریتم ICA\n",
        "num_countries = 50  # تعداد کشورها\n",
        "num_dimensions = 10  # تعداد ویژگی کشورها\n",
        "bounds = (-10, 10)  # محدوده مقادیر متغیرها\n",
        "max_iterations = 100  # تعداد تکرارها\n",
        "\n",
        "best_solution, best_fitness = imperialist_competition_algorithm(num_countries, num_dimensions, bounds, max_iterations)\n",
        "print(\"Best Solution:\", best_solution)\n",
        "print(\"Best Fitness:\", best_fitness)"
      ],
      "metadata": {
        "colab": {
          "base_uri": "https://localhost:8080/"
        },
        "id": "WahQkGkj8D79",
        "outputId": "68241987-740f-48ad-8d4b-21b61f41ea01"
      },
      "execution_count": 6,
      "outputs": [
        {
          "output_type": "stream",
          "name": "stdout",
          "text": [
            "Best Solution: [ 1.06581517  3.2193563   7.62283586 -5.64629312  6.59558805 -2.04157482\n",
            " -2.6163012  -0.78981161  3.46692168 -0.10409701]\n",
            "Best Fitness: 3.0067321767298623\n"
          ]
        }
      ]
    }
  ]
}