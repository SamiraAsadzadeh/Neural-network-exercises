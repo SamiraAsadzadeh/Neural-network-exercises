{
  "nbformat": 4,
  "nbformat_minor": 0,
  "metadata": {
    "colab": {
      "provenance": [],
      "authorship_tag": "ABX9TyPI2FzpCtLttiRNVy36Ut77",
      "include_colab_link": true
    },
    "kernelspec": {
      "name": "python3",
      "display_name": "Python 3"
    },
    "language_info": {
      "name": "python"
    }
  },
  "cells": [
    {
      "cell_type": "markdown",
      "metadata": {
        "id": "view-in-github",
        "colab_type": "text"
      },
      "source": [
        "<a href=\"https://colab.research.google.com/github/SamiraAsadzadeh/Neural-network-exercises/blob/main/ICA.ipynb\" target=\"_parent\"><img src=\"https://colab.research.google.com/assets/colab-badge.svg\" alt=\"Open In Colab\"/></a>"
      ]
    },
    {
      "cell_type": "markdown",
      "metadata": {
        "id": "P-PYVINdJURP"
      },
      "source": [
        " **By: Samira Asadzadeh  40116341054541**\n",
        "\n",
        "*   **Advisor:  Dr. Mr.Asadi**\n",
        "\n",
        "*  **ISLAMIC AZAD UNIVERSITY SHIRAZ BRANCH Faculty of engineering**\n",
        "\n"
      ]
    },
    {
      "cell_type": "markdown",
      "source": [
        "# بهینه سازی شبکه عصبی با الگوریتم رقابت استعماری"
      ],
      "metadata": {
        "id": "JgumCcVbVY6F"
      }
    },
    {
      "cell_type": "code",
      "source": [
        "import numpy as np\n",
        "\n",
        "def objective_function(X):\n",
        "\n",
        "      #Dataset\n",
        "        x = np.array ([[1,2,3]])\n",
        "        T = np.array ([[0.9,2.1,2.8]])\n",
        "      #وزن  و بایاس\n",
        "        w1 = X[0]\n",
        "        w2 = X[1]\n",
        "        w3 = X[2]\n",
        "        w4 = X[3]\n",
        "        w5 = X[4]\n",
        "        w6 = X[5]\n",
        "        b1 = X[6]\n",
        "        b2 = X[7]\n",
        "        b3 = X[8]\n",
        "        b4 = X[9]\n",
        "        Error1 = []\n",
        "        for sample in range(x.size):\n",
        "      # لایه پنهان\n",
        "          TF1 = lambda x:x\n",
        "          Z = []\n",
        "          w = [w1, w2, w3]\n",
        "          b = [b1, b2, b3]\n",
        "          for i , k in zip(w, b):\n",
        "            Z.append(TF1(i*x[0, sample]+k))\n",
        "      # لایه خروجی\n",
        "          TF2 = lambda x:x\n",
        "          sum1 = 0\n",
        "          W2= [w4, w5, w6]\n",
        "          for j in range(3):\n",
        "              sum1 += Z[j]*W2[j]\n",
        "          out = TF2(sum1+b4)\n",
        "          Error1.append(np.abs(out-T[0, sample]))\n",
        "          #print(np.sum(Error1))\n",
        "        return np.sum(Error1)\n",
        "\n",
        "def initialize_population(num_countries, num_dimensions, bounds):\n",
        "    # ایجاد جمعیت اولیه\n",
        "    populations = []\n",
        "    for _ in range(num_countries):\n",
        "        population = np.random.uniform(bounds[0], bounds[1], num_dimensions)\n",
        "        populations.append(population)\n",
        "\n",
        "    return populations\n",
        "\n",
        "def calculate_fitness(populations):\n",
        "    # محاسبه فیتنس برای هر جمعیت\n",
        "    fitness = []\n",
        "    for population in populations:\n",
        "        fitness.append(objective_function(population))\n",
        "\n",
        "    return np.array(fitness)\n",
        "\n",
        "def imperialist_competition_algorithm(num_countries, num_dimensions, bounds, max_iterations):\n",
        "    # مقداردهی اولیه\n",
        "    populations = initialize_population(num_countries, num_dimensions, bounds)\n",
        "    imperialists = populations[:num_countries//2]\n",
        "    colonies = populations[num_countries//2:]\n",
        "    fitness = calculate_fitness(populations)\n",
        "    best_fitness = np.min(fitness)\n",
        "    best_solution = populations[np.argmin(fitness)]\n",
        "\n",
        "    # حلقه‌ی اصلی الگوریتم ICA\n",
        "    for _ in range(max_iterations):\n",
        "        # انتخاب استعمارگران\n",
        "        imperialists_fitness = calculate_fitness(imperialists)\n",
        "        imperialist_indices = np.argsort(imperialists_fitness)\n",
        "        imperialists = np.array(imperialists)[imperialist_indices]\n",
        "\n",
        "        # انتخاب مستعمره‌ها\n",
        "        colonies_fitness = calculate_fitness(colonies)\n",
        "        colonies_indices = np.argsort(colonies_fitness)\n",
        "        colonies = np.array(colonies)[colonies_indices]\n",
        "\n",
        "        # اتحاد استعمارگر و مستعمره\n",
        "        for i in range(len(colonies)):\n",
        "            if colonies_fitness[i] < imperialists_fitness[i]:\n",
        "                imperialists[i] = colonies[i]\n",
        "\n",
        "        # مهاجرت جمعیت\n",
        "        for i in range(len(colonies), len(imperialists)):\n",
        "            random_colony_index = np.random.randint(0, len(colonies))\n",
        "            imperialists[i] = colonies[random_colony_index]\n",
        "\n",
        "        # به‌روزرسانی جمعیت مستعمره\n",
        "        colonies = imperialists[len(imperialists)//2:]\n",
        "\n",
        "        # به‌روزرسانی بهترین مقدار و موقعیت\n",
        "        fitness = calculate_fitness(imperialists)\n",
        "        if np.min(fitness) < best_fitness:\n",
        "            best_fitness = np.min(fitness)\n",
        "            best_solution = imperialists[np.argmin(fitness)]\n",
        "\n",
        "    return best_solution, best_fitness\n",
        "\n",
        "# مثال استفاده از الگوریتم ICA\n",
        "num_countries = 10  # تعداد کشورها\n",
        "num_dimensions = 10  # تعداد ابعاد فضا\n",
        "bounds = (-10, 10)  # محدوده مقادیر متغیرها\n",
        "max_iterations = 100  # تعداد تکرارها\n",
        "\n",
        "best_solution, best_fitness = imperialist_competition_algorithm(num_countries, num_dimensions, bounds, max_iterations)\n",
        "print(\"Best Solution:\", best_solution)\n",
        "print(\"Best Fitness:\", best_fitness)"
      ],
      "metadata": {
        "colab": {
          "base_uri": "https://localhost:8080/"
        },
        "id": "WahQkGkj8D79",
        "outputId": "9a5b9bb2-26bb-4607-e339-74943d4d619e"
      },
      "execution_count": null,
      "outputs": [
        {
          "output_type": "stream",
          "name": "stdout",
          "text": [
            "Best Solution: [ 7.65002688 -9.87615762 -9.09340181  4.27488007  4.11933057 -0.01978553\n",
            "  8.8164049   0.58368399  1.08602152  9.29003638]\n",
            "Best Fitness: 95.48427271794824\n"
          ]
        }
      ]
    }
  ]
}